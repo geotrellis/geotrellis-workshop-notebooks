{
 "cells": [
  {
   "cell_type": "markdown",
   "metadata": {},
   "source": [
    "# Library Focus: Circe"
   ]
  },
  {
   "cell_type": "markdown",
   "metadata": {},
   "source": [
    "## Introduction"
   ]
  },
  {
   "cell_type": "markdown",
   "metadata": {},
   "source": [
    "Circe is a JSON library for Scala (and Scala.js). It's known for its speed, ease of use, and flexibility. In this notebook, we'll explore the basic usage of Circe and how it makes use of features we've previously discussed, like implicits and type classes."
   ]
  },
  {
   "cell_type": "markdown",
   "metadata": {},
   "source": [
    "## Setup"
   ]
  },
  {
   "cell_type": "code",
   "execution_count": 1,
   "metadata": {},
   "outputs": [
    {
     "name": "stderr",
     "output_type": "stream",
     "text": [
      "Downloading https://repo1.maven.org/maven2/org/typelevel/cats-core_2.12/2.6.1/cats-core_2.12-2.6.1-sources.jar\n",
      "Downloading https://repo1.maven.org/maven2/org/typelevel/cats-kernel_2.12/2.6.1/cats-kernel_2.12-2.6.1.jar\n",
      "Downloading https://repo1.maven.org/maven2/org/typelevel/cats-kernel_2.12/2.6.1/cats-kernel_2.12-2.6.1-sources.jar\n",
      "Downloading https://repo1.maven.org/maven2/org/typelevel/cats-core_2.12/2.6.1/cats-core_2.12-2.6.1.jar\n",
      "Downloaded https://repo1.maven.org/maven2/org/typelevel/cats-kernel_2.12/2.6.1/cats-kernel_2.12-2.6.1-sources.jar\n",
      "Downloaded https://repo1.maven.org/maven2/org/typelevel/cats-core_2.12/2.6.1/cats-core_2.12-2.6.1-sources.jar\n",
      "Downloaded https://repo1.maven.org/maven2/org/typelevel/cats-kernel_2.12/2.6.1/cats-kernel_2.12-2.6.1.jar\n",
      "Downloaded https://repo1.maven.org/maven2/org/typelevel/cats-core_2.12/2.6.1/cats-core_2.12-2.6.1.jar\n"
     ]
    },
    {
     "data": {
      "text/plain": [
       "\u001b[32mimport \u001b[39m\u001b[36m$ivy.$                            , $ivy.$                               , $ivy.$                              \u001b[39m"
      ]
     },
     "execution_count": 1,
     "metadata": {},
     "output_type": "execute_result"
    }
   ],
   "source": [
    "import $ivy.`io.circe::circe-core:0.14.1`, $ivy.`io.circe::circe-generic:0.14.1`, $ivy.`io.circe::circe-parser:0.14.1`"
   ]
  },
  {
   "cell_type": "markdown",
   "metadata": {},
   "source": [
    "## Parsing JSON"
   ]
  },
  {
   "cell_type": "code",
   "execution_count": 5,
   "metadata": {},
   "outputs": [
    {
     "data": {
      "text/plain": [
       "\u001b[32mimport \u001b[39m\u001b[36mio.circe.{Json => CirceJson, _}\u001b[39m\n",
       "\u001b[32mimport \u001b[39m\u001b[36mio.circe.parser._\u001b[39m\n",
       "\u001b[36mrawJson\u001b[39m: \u001b[32mString\u001b[39m = \u001b[32m\"{\\\"name\\\":\\\"John\\\",\\\"age\\\":28}\"\u001b[39m\n",
       "\u001b[36mparseResult\u001b[39m: \u001b[32mEither\u001b[39m[\u001b[32mParsingFailure\u001b[39m, \u001b[32mio\u001b[39m.\u001b[32mcirce\u001b[39m.\u001b[32mJson\u001b[39m] = \u001b[33mRight\u001b[39m(\n",
       "  \u001b[33mJObject\u001b[39m(object[name -> \"John\",age -> 28])\n",
       ")\n",
       "\u001b[36mres5_4\u001b[39m: \u001b[32mEither\u001b[39m[\u001b[32mParsingFailure\u001b[39m, \u001b[32mio\u001b[39m.\u001b[32mcirce\u001b[39m.\u001b[32mJson\u001b[39m] = \u001b[33mRight\u001b[39m(\n",
       "  \u001b[33mJObject\u001b[39m(object[name -> \"John\",age -> 28])\n",
       ")"
      ]
     },
     "execution_count": 5,
     "metadata": {},
     "output_type": "execute_result"
    }
   ],
   "source": [
    "// This import is annoying. Almond (the kernel for this notebook) also has a type named Json. We import CirceJson to avoid conflicts\n",
    "import io.circe.{Json => CirceJson, _}\n",
    "import io.circe.parser._\n",
    "\n",
    "val rawJson: String = \"\"\"{\"name\":\"John\",\"age\":28}\"\"\"\n",
    "val parseResult: Either[ParsingFailure, CirceJson] = parse(rawJson)\n",
    "\n",
    "// Check the result\n",
    "parseResult"
   ]
  },
  {
   "cell_type": "markdown",
   "metadata": {},
   "source": [
    "## Decoding JSON to Scala Objects"
   ]
  },
  {
   "cell_type": "code",
   "execution_count": 6,
   "metadata": {},
   "outputs": [
    {
     "data": {
      "text/plain": [
       "\u001b[32mimport \u001b[39m\u001b[36mio.circe.generic.auto._\u001b[39m\n",
       "\u001b[32mimport \u001b[39m\u001b[36mio.circe.syntax._\u001b[39m\n",
       "defined \u001b[32mclass\u001b[39m \u001b[36mPerson\u001b[39m\n",
       "\u001b[36mpersonEither\u001b[39m: \u001b[32mEither\u001b[39m[\u001b[32mError\u001b[39m, \u001b[32mPerson\u001b[39m] = \u001b[33mRight\u001b[39m(\u001b[33mPerson\u001b[39m(\u001b[32m\"John\"\u001b[39m, \u001b[32m28\u001b[39m))\n",
       "\u001b[36mres6_4\u001b[39m: \u001b[32mEither\u001b[39m[\u001b[32mError\u001b[39m, \u001b[32mPerson\u001b[39m] = \u001b[33mRight\u001b[39m(\u001b[33mPerson\u001b[39m(\u001b[32m\"John\"\u001b[39m, \u001b[32m28\u001b[39m))"
      ]
     },
     "execution_count": 6,
     "metadata": {},
     "output_type": "execute_result"
    }
   ],
   "source": [
    "import io.circe.generic.auto._\n",
    "import io.circe.syntax._\n",
    "\n",
    "case class Person(name: String, age: Int)\n",
    "\n",
    "// Using Decoder type class implicitly\n",
    "val personEither: Either[Error, Person] = parseResult.right.flatMap(_.as[Person])\n",
    "\n",
    "// Check the result\n",
    "personEither"
   ]
  },
  {
   "cell_type": "markdown",
   "metadata": {},
   "source": [
    "Notice the use of the `Decoder` type class for decoding and the use of implicits to magically make the decoding happen."
   ]
  },
  {
   "cell_type": "markdown",
   "metadata": {},
   "source": [
    "## Comparison with Other Libraries"
   ]
  },
  {
   "cell_type": "markdown",
   "metadata": {},
   "source": [
    "1. **Play JSON**: Play's JSON library is highly performant but requires more boilerplate for custom types.\n",
    "2. **Json4s**: Offers both mutable and immutable models but is less idiomatic for Scala.\n",
    "3. **Argonaut**: Similar to Circe but requires more boilerplate for custom codecs.\n",
    "\n",
    "Circe shines in its balance of performance, ease of use, and idiomatic Scala constructs."
   ]
  },
  {
   "cell_type": "markdown",
   "metadata": {},
   "source": [
    "## Tying it Back to Scala Features"
   ]
  },
  {
   "cell_type": "markdown",
   "metadata": {},
   "source": [
    "Circe utilizes several Scala features that we've discussed in previous notebooks:\n",
    "\n",
    "1. **Implicits**: Circe uses implicit encoders and decoders, which are essentially instances of type classes.\n",
    "2. **Type Classes**: The `Decoder` and `Encoder` traits are examples of type classes, providing ad-hoc polymorphism.\n",
    "3. **Case Classes**: Commonly used for easy encoder and decoder generation.\n",
    "\n",
    "These Scala features make Circe a powerful tool for dealing with JSON in a type-safe manner."
   ]
  }
 ],
 "metadata": {
  "kernelspec": {
   "display_name": "Scala 2.12",
   "language": "scala",
   "name": "scala212"
  },
  "language_info": {
   "codemirror_mode": "text/x-scala",
   "file_extension": ".sc",
   "mimetype": "text/x-scala",
   "name": "scala",
   "nbconvert_exporter": "script",
   "version": "2.12.18"
  }
 },
 "nbformat": 4,
 "nbformat_minor": 4
}
