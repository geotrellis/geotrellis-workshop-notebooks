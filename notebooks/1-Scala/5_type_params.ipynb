{
 "cells": [
  {
   "cell_type": "markdown",
   "id": "22e97c06",
   "metadata": {},
   "source": [
    "# Type Parameters in Scala\n",
    "\n",
    "Type parameters allow for writing generic code that can work with different types while maintaining type safety. This lesson dives deep into type parameters in Scala, exploring their nuances and advanced use-cases."
   ]
  },
  {
   "cell_type": "markdown",
   "id": "6588f26c",
   "metadata": {},
   "source": [
    "## Basics of Type Parameters\n",
    "\n",
    "In its simplest form, type parameters enable you to write generic classes and methods."
   ]
  },
  {
   "cell_type": "code",
   "execution_count": null,
   "id": "172231f2",
   "metadata": {},
   "outputs": [],
   "source": [
    "// Generic class\n",
    "class Box[A](val content: A)\n",
    "\n",
    "// Generic method\n",
    "def identity[A](x: A): A = x\n",
    "\n",
    "val intBox = new Box(42)\n",
    "val stringBox = new Box(\"Hello\")\n",
    "identity(3.14)"
   ]
  },
  {
   "cell_type": "markdown",
   "id": "777901b2",
   "metadata": {},
   "source": [
    "## Context Bounds and Type Classes\n",
    "\n",
    "You can specify that a type parameter must belong to a type class by using context bounds."
   ]
  },
  {
   "cell_type": "code",
   "execution_count": null,
   "id": "7fc66c08",
   "metadata": {},
   "outputs": [],
   "source": [
    "import scala.math.Ordering\n",
    "\n",
    "def minimum[A: Ordering](x: A, y: A): A = {\n",
    "  val ord = implicitly[Ordering[A]]\n",
    "  if (ord.lt(x, y)) x else y\n",
    "}\n",
    "\n",
    "minimum(10, 20)"
   ]
  },
  {
   "cell_type": "markdown",
   "id": "076357d6",
   "metadata": {},
   "source": [
    "## Higher-Kinded Types\n",
    "\n",
    "Higher-kinded types allow type parameters themselves to be generic. This will be discussed in greater detail in section 8."
   ]
  },
  {
   "cell_type": "code",
   "execution_count": null,
   "id": "b47b90aa",
   "metadata": {},
   "outputs": [],
   "source": [
    "trait Container[M[_]] {\n",
    "  def put[A](x: M[A]): M[A]\n",
    "  def get[A](m: M[A]): A\n",
    "}\n",
    "\n",
    "def useContainer[M[_], A](m: M[A], c: Container[M]): A = c.get(c.put(m))"
   ]
  },
  {
   "cell_type": "markdown",
   "id": "44e65ccd",
   "metadata": {},
   "source": [
    "## Variance Annotations\n",
    "\n",
    "Variance annotations (`+`, `-`) determine how subclasses relate to parent classes in parameterized types."
   ]
  },
  {
   "cell_type": "code",
   "execution_count": null,
   "id": "75e09faa",
   "metadata": {},
   "outputs": [],
   "source": [
    "class Animal\n",
    "class Dog extends Animal\n",
    "\n",
    "class PetStore[+A](val pet: A)\n",
    "val store: PetStore[Animal] = new PetStore[Dog](new Dog)"
   ]
  },
  {
   "cell_type": "markdown",
   "id": "42fcfcea-3014-4929-a192-86547683dd2e",
   "metadata": {},
   "source": [
    "This is an especially tricky topic for engineers that are new to scala. We'll look into variance a bit further in the next section, though we won't be able to avoid treating the topic in a somewhat superficial manner. Hopefully, these notebooks can serve as a jumping off point for further discussion and study for those interested in getting the most out of Scala's extremely expressive type system."
   ]
  },
  {
   "cell_type": "markdown",
   "id": "9e7cab51",
   "metadata": {},
   "source": [
    "## Exercise\n",
    "\n",
    "1. Implement a generic `Queue` class with type parameter `A` that supports enqueuing and dequeuing.\n",
    "2. Use a context bound to ensure that the type `A` has an `Ordering` defined."
   ]
  }
 ],
 "metadata": {
  "kernelspec": {
   "display_name": "Scala 2.12",
   "language": "scala",
   "name": "scala212"
  },
  "language_info": {
   "codemirror_mode": "text/x-scala",
   "file_extension": ".sc",
   "mimetype": "text/x-scala",
   "name": "scala",
   "nbconvert_exporter": "script",
   "version": "2.12.18"
  }
 },
 "nbformat": 4,
 "nbformat_minor": 5
}
