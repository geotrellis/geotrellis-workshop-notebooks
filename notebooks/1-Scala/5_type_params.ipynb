{
 "cells": [
  {
   "cell_type": "markdown",
   "id": "22e97c06",
   "metadata": {},
   "source": [
    "# Type Parameters in Scala\n",
    "\n",
    "Type parameters allow for writing generic code that can work with different types while maintaining type safety. This lesson dives deep into type parameters in Scala, exploring their nuances and advanced use-cases."
   ]
  },
  {
   "cell_type": "markdown",
   "id": "6588f26c",
   "metadata": {},
   "source": [
    "## Basics of Type Parameters\n",
    "\n",
    "In its simplest form, type parameters enable you to write generic classes and methods."
   ]
  },
  {
   "cell_type": "code",
   "execution_count": 1,
   "id": "172231f2",
   "metadata": {},
   "outputs": [
    {
     "data": {
      "text/plain": [
       "defined \u001b[32mclass\u001b[39m \u001b[36mBox\u001b[39m\n",
       "defined \u001b[32mfunction\u001b[39m \u001b[36midentity\u001b[39m\n",
       "\u001b[36mintBox\u001b[39m: \u001b[32mBox\u001b[39m[\u001b[32mInt\u001b[39m] = ammonite.$sess.cell1$Helper$Box@278c1536\n",
       "\u001b[36mstringBox\u001b[39m: \u001b[32mBox\u001b[39m[\u001b[32mString\u001b[39m] = ammonite.$sess.cell1$Helper$Box@437bfbee\n",
       "\u001b[36mres1_4\u001b[39m: \u001b[32mDouble\u001b[39m = \u001b[32m3.14\u001b[39m"
      ]
     },
     "execution_count": 1,
     "metadata": {},
     "output_type": "execute_result"
    }
   ],
   "source": [
    "// Generic class\n",
    "class Box[A](val content: A)\n",
    "\n",
    "// Generic method\n",
    "def identity[A](x: A): A = x\n",
    "\n",
    "val intBox = new Box(42)\n",
    "val stringBox = new Box(\"Hello\")\n",
    "identity(3.14)"
   ]
  },
  {
   "cell_type": "markdown",
   "id": "777901b2",
   "metadata": {},
   "source": [
    "## Context Bounds and Type Classes\n",
    "\n",
    "You can specify that a type parameter must belong to a type class by using context bounds."
   ]
  },
  {
   "cell_type": "code",
   "execution_count": 2,
   "id": "7fc66c08",
   "metadata": {},
   "outputs": [
    {
     "data": {
      "text/plain": [
       "\u001b[32mimport \u001b[39m\u001b[36mscala.math.Ordering\u001b[39m\n",
       "defined \u001b[32mfunction\u001b[39m \u001b[36mminimum\u001b[39m\n",
       "defined \u001b[32mfunction\u001b[39m \u001b[36mminimum2\u001b[39m\n",
       "\u001b[36mres2_3\u001b[39m: \u001b[32mInt\u001b[39m = \u001b[32m10\u001b[39m\n",
       "\u001b[36mres2_4\u001b[39m: \u001b[32mInt\u001b[39m = \u001b[32m10\u001b[39m"
      ]
     },
     "execution_count": 2,
     "metadata": {},
     "output_type": "execute_result"
    }
   ],
   "source": [
    "import scala.math.Ordering\n",
    "\n",
    "def minimum[A: Ordering](x: A, y: A): A = {\n",
    "  val ord = implicitly[Ordering[A]]\n",
    "  if (ord.lt(x, y)) x else y\n",
    "}\n",
    "def minimum2[A](x: A, y: A)(implicit ord: Ordering[A]): A = {\n",
    "  if (ord.lt(x, y)) x else y\n",
    "}\n",
    "\n",
    "minimum(10, 20)\n",
    "minimum2(10, 20)"
   ]
  },
  {
   "cell_type": "markdown",
   "id": "076357d6",
   "metadata": {},
   "source": [
    "## Higher-Kinded Types\n",
    "\n",
    "Higher-kinded types allow type parameters themselves to be generic. This will be discussed in greater detail in section 8. Don't worry if this doesn't make perfect sense. It remains confusing to those of us who've been around them for years and largely doesn't come up outside of writing libraries that are extremely generic!"
   ]
  },
  {
   "cell_type": "code",
   "execution_count": 3,
   "id": "b47b90aa",
   "metadata": {},
   "outputs": [
    {
     "name": "stderr",
     "output_type": "stream",
     "text": [
      "two feature warnings; re-run with -feature for details\n"
     ]
    },
    {
     "name": "stdout",
     "output_type": "stream",
     "text": [
      "42\n"
     ]
    },
    {
     "data": {
      "text/plain": [
       "defined \u001b[32mtrait\u001b[39m \u001b[36mContainer\u001b[39m\n",
       "defined \u001b[32mfunction\u001b[39m \u001b[36museContainer\u001b[39m\n",
       "\u001b[36moptionContainer\u001b[39m: \u001b[32mContainer\u001b[39m[\u001b[32mOption\u001b[39m] = ammonite.$sess.cell3$Helper$$anon$1@28347ef9\n",
       "\u001b[36mopt\u001b[39m: \u001b[32mOption\u001b[39m[\u001b[32mInt\u001b[39m] = \u001b[33mSome\u001b[39m(\u001b[32m42\u001b[39m)"
      ]
     },
     "execution_count": 3,
     "metadata": {},
     "output_type": "execute_result"
    }
   ],
   "source": [
    "trait Container[M[_]] {\n",
    "  def put[A](x: M[A]): M[A]\n",
    "  def get[A](m: M[A]): A\n",
    "}\n",
    "\n",
    "def useContainer[M[_], A](m: M[A], c: Container[M]): A = c.get(c.put(m))\n",
    "\n",
    "// Let's try to make good on this:\n",
    "val optionContainer: Container[Option] = new Container[Option] {\n",
    "  def put[A](x: Option[A]): Option[A] = x\n",
    "  def get[A](m: Option[A]): A = m.getOrElse(throw new RuntimeException(\"Empty Option\"))\n",
    "}\n",
    "\n",
    "val opt: Option[Int] = Some(42)\n",
    "println(useContainer(opt, optionContainer)) // Prints: 42"
   ]
  },
  {
   "cell_type": "markdown",
   "id": "44e65ccd",
   "metadata": {},
   "source": [
    "## Variance Annotations\n",
    "\n",
    "Variance annotations (`+`, `-`) determine how subclasses relate to parent classes in parameterized types."
   ]
  },
  {
   "cell_type": "code",
   "execution_count": 5,
   "id": "75e09faa",
   "metadata": {},
   "outputs": [
    {
     "data": {
      "text/plain": [
       "defined \u001b[32mclass\u001b[39m \u001b[36mAnimal\u001b[39m\n",
       "defined \u001b[32mclass\u001b[39m \u001b[36mDog\u001b[39m\n",
       "defined \u001b[32mclass\u001b[39m \u001b[36mPetStore\u001b[39m\n",
       "\u001b[36mstore\u001b[39m: \u001b[32mPetStore\u001b[39m[\u001b[32mAnimal\u001b[39m] = ammonite.$sess.cell5$Helper$PetStore@18a907ad"
      ]
     },
     "execution_count": 5,
     "metadata": {},
     "output_type": "execute_result"
    }
   ],
   "source": [
    "class Animal\n",
    "class Dog extends Animal\n",
    "\n",
    "class PetStore[+A](val pet: A)\n",
    "// Dog *is* an Animal, so the covariant nature of A plays nicely with an instance of Dog\n",
    "val store: PetStore[Animal] = new PetStore[Dog](new Dog)"
   ]
  },
  {
   "cell_type": "markdown",
   "id": "42fcfcea-3014-4929-a192-86547683dd2e",
   "metadata": {},
   "source": [
    "This is an especially tricky topic for engineers that are new to scala. We'll look into variance a bit further in the next section, though we won't be able to avoid treating the topic in a somewhat superficial manner. Hopefully, these notebooks can serve as a jumping off point for further discussion and study for those interested in getting the most out of Scala's extremely expressive type system."
   ]
  },
  {
   "cell_type": "markdown",
   "id": "9e7cab51",
   "metadata": {},
   "source": [
    "## Exercise\n",
    "\n",
    "1. Implement a generic `Queue` class with type parameter `A` that supports enqueuing and dequeuing.\n",
    "2. Use a context bound to ensure that the type `A` has an `Ordering` defined."
   ]
  }
 ],
 "metadata": {
  "kernelspec": {
   "display_name": "Scala 2.12",
   "language": "scala",
   "name": "scala212"
  },
  "language_info": {
   "codemirror_mode": "text/x-scala",
   "file_extension": ".sc",
   "mimetype": "text/x-scala",
   "name": "scala",
   "nbconvert_exporter": "script",
   "version": "2.12.18"
  }
 },
 "nbformat": 4,
 "nbformat_minor": 5
}
