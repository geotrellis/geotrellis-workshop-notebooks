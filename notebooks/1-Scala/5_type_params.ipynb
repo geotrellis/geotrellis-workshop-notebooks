{
 "cells": [
  {
   "cell_type": "markdown",
   "id": "22e97c06",
   "metadata": {},
   "source": [
    "# Type Parameters in Scala\n",
    "\n",
    "Type parameters allow for writing generic code that can work with different types while maintaining type safety. This lesson dives deep into type parameters in Scala, exploring their nuances and advanced use-cases."
   ]
  },
  {
   "cell_type": "markdown",
   "id": "6588f26c",
   "metadata": {},
   "source": [
    "## Basics of Type Parameters\n",
    "\n",
    "In its simplest form, type parameters enable you to write generic classes and methods."
   ]
  },
  {
   "cell_type": "code",
   "execution_count": null,
   "id": "172231f2",
   "metadata": {},
<<<<<<< Updated upstream
   "outputs": [],
=======
   "outputs": [
    {
     "data": {
      "text/plain": [
       "defined \u001b[32mclass\u001b[39m \u001b[36mBox\u001b[39m\n",
       "defined \u001b[32mfunction\u001b[39m \u001b[36midentity\u001b[39m\n",
       "\u001b[36mintBox\u001b[39m: \u001b[32mBox\u001b[39m[\u001b[32mInt\u001b[39m] = ammonite.$sess.cell1$Helper$Box@b8891ab\n",
       "\u001b[36mstringBox\u001b[39m: \u001b[32mBox\u001b[39m[\u001b[32mString\u001b[39m] = ammonite.$sess.cell1$Helper$Box@4f147b70\n",
       "\u001b[36mres1_4\u001b[39m: \u001b[32mDouble\u001b[39m = \u001b[32m3.14\u001b[39m"
      ]
     },
     "execution_count": 1,
     "metadata": {},
     "output_type": "execute_result"
    }
   ],
>>>>>>> Stashed changes
   "source": [
    "// Generic class\n",
    "class Box[A](val content: A)\n",
    "\n",
    "// Generic method\n",
    "def identity[A](x: A): A = x\n",
    "\n",
    "val intBox = new Box(42)\n",
    "val stringBox = new Box(\"Hello\")\n",
    "identity(3.14)"
   ]
  },
  {
   "cell_type": "markdown",
   "id": "777901b2",
   "metadata": {},
   "source": [
    "## Context Bounds and Type Classes\n",
    "\n",
    "You can specify that a type parameter must belong to a type class by using context bounds."
   ]
  },
  {
   "cell_type": "code",
   "execution_count": null,
   "id": "7fc66c08",
   "metadata": {},
<<<<<<< Updated upstream
   "outputs": [],
=======
   "outputs": [
    {
     "data": {
      "text/plain": [
       "\u001b[32mimport \u001b[39m\u001b[36mscala.math.Ordering\u001b[39m\n",
       "defined \u001b[32mfunction\u001b[39m \u001b[36mminimum\u001b[39m\n",
       "defined \u001b[32mfunction\u001b[39m \u001b[36mminimum2\u001b[39m\n",
       "\u001b[36mres2_3\u001b[39m: \u001b[32mInt\u001b[39m = \u001b[32m10\u001b[39m\n",
       "\u001b[36mres2_4\u001b[39m: \u001b[32mInt\u001b[39m = \u001b[32m10\u001b[39m\n",
       "\u001b[36mres2_5\u001b[39m: \u001b[32mString\u001b[39m = \u001b[32m\"10\"\u001b[39m"
      ]
     },
     "execution_count": 2,
     "metadata": {},
     "output_type": "execute_result"
    }
   ],
>>>>>>> Stashed changes
   "source": [
    "import scala.math.Ordering\n",
    "\n",
    "def minimum[A: Ordering](x: A, y: A): A = {\n",
    "  val ord = implicitly[Ordering[A]]\n",
    "  if (ord.lt(x, y)) x else y\n",
    "}\n",
    "def minimum2[A](x: A, y: A)(implicit ord: Ordering[A]): A = {\n",
    "  if (ord.lt(x, y)) x else y\n",
    "}\n",
    "import mylibrary.syntax._\n",
    "\n",
    "minimum(10, 20)\n",
    "minimum2(10, 20)\n",
    "minimum2(\"10\", \"20\")"
   ]
  },
  {
   "cell_type": "markdown",
   "id": "076357d6",
   "metadata": {},
   "source": [
    "## Higher-Kinded Types\n",
    "\n",
    "Higher-kinded types allow type parameters themselves to be generic. This will be discussed in greater detail in section 8. Don't worry if this doesn't make perfect sense. It remains confusing to those of us who've been around them for years and largely doesn't come up outside of writing libraries that are extremely generic!"
   ]
  },
  {
   "cell_type": "code",
   "execution_count": null,
   "id": "b47b90aa",
   "metadata": {},
   "outputs": [],
   "source": [
    "trait Container[M[_]] {\n",
    "  def put[A](x: M[A]): M[A]\n",
    "  def get[A](m: M[A]): A\n",
    "}\n",
    "\n",
    "def useContainer[M[_], A](m: M[A], c: Container[M]): A = c.get(c.put(m))\n",
    "\n",
    "// Let's try to make good on this:\n",
    "val optionContainer: Container[Option] = new Container[Option] {\n",
    "  def put[A](x: Option[A]): Option[A] = x\n",
    "  def get[A](m: Option[A]): A = m.getOrElse(throw new RuntimeException(\"Empty Option\"))\n",
    "}\n",
    "val futureContainer: Container[Future] = new Container[Future] {\n",
    "  def put[A](x: Future[A]): Future[A] = new Future(x)\n",
    "  def get[A](m: Future[A]): A = m.run()\n",
    "}\n",
    "\n",
    "val opt: Option[Int] = Some(42)\n",
    "println(useContainer(opt, optionContainer)) // Prints: 42"
   ]
  },
  {
   "cell_type": "markdown",
   "id": "44e65ccd",
   "metadata": {},
   "source": [
    "## Variance Annotations\n",
    "\n",
    "Variance annotations (`+`, `-`) determine how subclasses relate to parent classes in parameterized types."
   ]
  },
  {
   "cell_type": "code",
<<<<<<< Updated upstream
   "execution_count": null,
   "id": "75e09faa",
   "metadata": {},
   "outputs": [],
=======
   "execution_count": 3,
   "id": "75e09faa",
   "metadata": {},
   "outputs": [
    {
     "name": "stderr",
     "output_type": "stream",
     "text": [
      "cell4.sc:6: type mismatch;\n",
      " found   : Helper.this.PetStore[Helper.this.Dog]\n",
      " required: Helper.this.PetStore[Helper.this.Animal]\n",
      "Note: Helper.this.Dog <: Helper.this.Animal, but class PetStore is invariant in type A.\n",
      "You may wish to define A as +A instead. (SLS 4.5)\n",
      "val store: PetStore[Animal] = new PetStore[Dog](new Dog)\n",
      "                              ^\n",
      "Compilation Failed"
     ]
    }
   ],
>>>>>>> Stashed changes
   "source": [
    "class Animal\n",
    "class Dog extends Animal\n",
    "\n",
    "class PetStore[A](val pet: A)\n",
    "// Dog *is* an Animal, so the covariant nature of A plays nicely with an instance of Dog\n",
    "val store: PetStore[Animal] = new PetStore[Dog](new Dog)"
   ]
  },
  {
   "cell_type": "markdown",
   "id": "42fcfcea-3014-4929-a192-86547683dd2e",
   "metadata": {},
   "source": [
    "This is an especially tricky topic for engineers that are new to scala. We'll look into variance a bit further in the next section, though we won't be able to avoid treating the topic in a somewhat superficial manner. Hopefully, these notebooks can serve as a jumping off point for further discussion and study for those interested in getting the most out of Scala's extremely expressive type system."
   ]
  },
  {
   "cell_type": "markdown",
   "id": "9e7cab51",
   "metadata": {},
   "source": [
    "## Exercise\n",
    "\n",
    "1. Implement a generic `Queue` class with type parameter `A` that supports enqueuing and dequeuing.\n",
    "2. Use a context bound to ensure that the type `A` has an `Ordering` defined."
   ]
  }
 ],
 "metadata": {
  "kernelspec": {
   "display_name": "Scala 2.12",
   "language": "scala",
   "name": "scala212"
  },
  "language_info": {
   "codemirror_mode": "text/x-scala",
   "file_extension": ".sc",
   "mimetype": "text/x-scala",
   "name": "scala",
   "nbconvert_exporter": "script",
   "version": "2.12.18"
  }
 },
 "nbformat": 4,
 "nbformat_minor": 5
}
