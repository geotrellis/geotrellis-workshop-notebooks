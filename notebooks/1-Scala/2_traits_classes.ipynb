{
 "cells": [
  {
   "cell_type": "markdown",
   "id": "26242130",
   "metadata": {},
   "source": [
    "# Traits vs Abstract Classes in Scala\n",
    "\n",
    "When defining a contract that multiple classes must adhere to, Scala provides two primary constructs: Traits and Abstract Classes. In Python, you might be familiar with abstract classes. Traits in Scala serve a similar but more flexible purpose."
   ]
  },
  {
   "cell_type": "markdown",
   "id": "3014a82e",
   "metadata": {},
   "source": [
    "## Traits\n",
    "\n",
    "Traits are a way to share methods and fields between classes. They are similar to Python's Mixins."
   ]
  },
  {
   "cell_type": "code",
   "execution_count": null,
   "id": "1b76344b",
   "metadata": {},
   "outputs": [],
   "source": [
    "trait Speaker {\n",
    "  def speak(): String  // Abstract method\n",
    "  def shout(): String = \"I'm shouting!\"  // Concrete method\n",
    "}\n",
    "\n",
    "class Person extends Speaker {\n",
    "  def speak(): String = \"Hello, world!\"\n",
    "}\n",
    "\n",
    "val p = new Person\n",
    "println(p.speak())  // Output: Hello, world!\n",
    "println(p.shout())  // Output: I'm shouting!"
   ]
  },
  {
   "cell_type": "markdown",
   "id": "6fca6e1f",
   "metadata": {},
   "source": [
    "## Abstract Classes\n",
    "\n",
    "Abstract Classes are similar to traits but they can have constructor parameters."
   ]
  },
  {
   "cell_type": "code",
   "execution_count": null,
   "id": "24485a9c",
   "metadata": {},
   "outputs": [],
   "source": [
    "abstract class Animal(name: String) {\n",
    "  def makeSound(): String\n",
    "}\n",
    "\n",
    "class Dog(name: String) extends Animal(name) {\n",
    "  def makeSound(): String = \"Woof!\"\n",
    "}\n",
    "\n",
    "val d = new Dog(\"Buddy\")\n",
    "println(d.makeSound())  // Output: Woof!"
   ]
  },
  {
   "cell_type": "markdown",
   "id": "fa0478fa",
   "metadata": {},
   "source": [
    "## Differences between Traits and Abstract Classes\n",
    "\n",
    "1. **Constructor Parameters**: Abstract classes can have constructor parameters, traits cannot.\n",
    "2. **Multiple Inheritance**: A class can inherit multiple traits but only one abstract class.\n",
    "3. **Type of Inheritance**: Traits are mixed into classes using `extends` for the first trait and `with` for subsequent traits. Abstract classes use `extends`.\n",
    "4. **Instantiation**: Neither traits nor abstract classes can be instantiated.\n",
    "5. **Access Modifiers**: Abstract classes can have `protected` and `private` members, while traits cannot have `protected` members (but they can have `private` members).\n",
    "6. **Final Methods**: Both traits and abstract classes can contain final methods (methods that can't be overridden).\n",
    "7. **Linearization**: Traits support a feature called 'Linearization' which defines a clear hierarchy when multiple traits are mixed into a class.\n",
    "8. **Static Members**: Traits cannot have static members. In abstract classes, `static` members are simulated by putting them in companion objects."
   ]
  },
  {
   "cell_type": "markdown",
   "id": "ee289e07",
   "metadata": {},
   "source": [
    "## Exercise\n",
    "\n",
    "Try creating a trait and an abstract class that share a common method. Then create a class that inherits from both and overrides the common method."
   ]
  },
  {
   "cell_type": "code",
   "execution_count": null,
   "id": "61f5e1dc",
   "metadata": {
    "collapsed": false,
    "jupyter": {
     "outputs_hidden": false
    }
   },
   "outputs": [],
   "source": [
    "// Your code here"
   ]
  }
 ],
 "metadata": {
  "kernelspec": {
   "display_name": "Scala 2.12",
   "language": "scala",
   "name": "scala212"
  },
  "language_info": {
   "codemirror_mode": "text/x-scala",
   "file_extension": ".sc",
   "mimetype": "text/x-scala",
   "name": "scala",
   "nbconvert_exporter": "script",
   "version": "2.12.18"
  }
 },
 "nbformat": 4,
 "nbformat_minor": 5
}
