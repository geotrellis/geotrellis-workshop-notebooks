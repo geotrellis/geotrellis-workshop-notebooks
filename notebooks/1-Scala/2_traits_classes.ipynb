{
 "cells": [
  {
   "cell_type": "markdown",
   "id": "26242130",
   "metadata": {},
   "source": [
    "# Traits vs Classes in Scala\n",
    "\n",
    "When defining a contract that multiple classes must adhere to, Scala provides two primary constructs: Traits and Abstract Classes. In Python, you might be familiar with abstract classes. Traits in Scala serve a similar but more flexible purpose."
   ]
  },
  {
   "cell_type": "markdown",
   "id": "bff92147-2ca8-4a0f-89ba-a90a09f07d0f",
   "metadata": {},
   "source": [
    "## Classes\n",
    "\n",
    "You've likely encountered java classes before. Let's refresh your memory on how they're constructed:\n",
    "\n",
    "```java\n",
    "public class Person {\n",
    "    public String name;\n",
    "    private int age;\n",
    "\n",
    "    public Person(String name, int age) {\n",
    "        this.name = name;\n",
    "        this.age = age;\n",
    "    }\n",
    "}\n",
    "```\n",
    "\n",
    "That's pretty ugly. Let's look at python in case that's more familiar. Note the lack of privacy, as python doesn't make privacy a first class consideration:\n",
    "\n",
    "```python\n",
    "class Person:\n",
    "    def __init__(self, name, age):\n",
    "        self.name = name\n",
    "        self.age = age\n",
    "```\n",
    "\n",
    "Let's now take a quick look at how this class might be implemented in Scala. Note how terse and expressive Scala's mechanisms for class implementation are in comparison:"
   ]
  },
  {
   "cell_type": "code",
<<<<<<< Updated upstream
   "execution_count": null,
   "id": "8651256d-c7c4-4e2e-acb8-e406e1660460",
   "metadata": {},
   "outputs": [],
=======
   "execution_count": 1,
   "id": "8651256d-c7c4-4e2e-acb8-e406e1660460",
   "metadata": {},
   "outputs": [
    {
     "name": "stdout",
     "output_type": "stream",
     "text": [
      "Joshua\n"
     ]
    },
    {
     "data": {
      "text/plain": [
       "defined \u001b[32mclass\u001b[39m \u001b[36mPerson\u001b[39m\n",
       "\u001b[36mp\u001b[39m: \u001b[32mPerson\u001b[39m = ammonite.$sess.cell1$Helper$Person@c9c6cd5"
      ]
     },
     "execution_count": 1,
     "metadata": {},
     "output_type": "execute_result"
    }
   ],
>>>>>>> Stashed changes
   "source": [
    "// Keeping with the example above and Java's notion of cleanliness, we'll make these values private\n",
    "// In scala, the heavy use of accessor methods is not convention\n",
    "class Person(val name: String, private val age: Int)\n",
    "\n",
    "val p = new Person(\"Joshua\", 123)\n",
    "println(p.name)\n",
    "// println(p.age) // <-- this won't compile, privacy is respected"
   ]
  },
  {
   "cell_type": "markdown",
   "id": "3014a82e",
   "metadata": {},
   "source": [
    "## Traits\n",
    "\n",
    "Traits are a way to share methods and fields between classes. They are similar to Python Mixins and directly correspond to java interfaces."
   ]
  },
  {
   "cell_type": "code",
<<<<<<< Updated upstream
   "execution_count": null,
   "id": "1b76344b",
   "metadata": {},
   "outputs": [],
=======
   "execution_count": 3,
   "id": "1b76344b",
   "metadata": {},
   "outputs": [
    {
     "name": "stdout",
     "output_type": "stream",
     "text": [
      "Hello, world!\n",
      "I'm shouting!\n"
     ]
    },
    {
     "data": {
      "text/plain": [
       "defined \u001b[32mtrait\u001b[39m \u001b[36mSpeaker\u001b[39m\n",
       "defined \u001b[32mclass\u001b[39m \u001b[36mPerson\u001b[39m\n",
       "\u001b[36mp\u001b[39m: \u001b[32mPerson\u001b[39m = ammonite.$sess.cell3$Helper$Person@10c71315"
      ]
     },
     "execution_count": 3,
     "metadata": {},
     "output_type": "execute_result"
    }
   ],
>>>>>>> Stashed changes
   "source": [
    "trait Speaker {\n",
    "  def speak: String  // Abstract method\n",
    "  def shout(): String = \"I'm shouting!\"  // Concrete method\n",
    "}\n",
    "\n",
    "class Person extends Speaker {\n",
    "  val speak: String = \"Hello, world!\"\n",
    "}\n",
    "\n",
    "val p = new Person\n",
    "println(p.speak)  // Output: Hello, world!\n",
    "println(p.shout())  // Output: I'm shouting!"
   ]
  },
  {
   "cell_type": "markdown",
   "id": "3e9b1101-e841-4790-9e2f-dd4f87f04704",
   "metadata": {},
   "source": [
    "The corresponding java implementation of this trait might look like this:\n",
    "\n",
    "```java\n",
    "public interface Speaker {\n",
    "    // Abstract method\n",
    "    String speak();\n",
    "\n",
    "    // Concrete (default) method\n",
    "    default String shout() {\n",
    "        return \"I'm shouting!\";\n",
    "    }\n",
    "}\n",
    "```"
   ]
  },
  {
   "cell_type": "markdown",
   "id": "6fca6e1f",
   "metadata": {},
   "source": [
    "## Abstract Classes\n",
    "\n",
    "Abstract Classes are similar to traits in that they can have abstract members but they can have constructor parameters. They are *not* interfaces, so you will only use one of these rather than stacking them as you might with traits."
   ]
  },
  {
   "cell_type": "code",
   "execution_count": null,
   "id": "24485a9c",
   "metadata": {},
<<<<<<< Updated upstream
   "outputs": [],
=======
   "outputs": [
    {
     "name": "stdout",
     "output_type": "stream",
     "text": [
      "Buddy\n",
      "true\n",
      "very\n"
     ]
    },
    {
     "data": {
      "text/plain": [
       "defined \u001b[32mclass\u001b[39m \u001b[36mAnimal\u001b[39m\n",
       "defined \u001b[32mtrait\u001b[39m \u001b[36mIsFurry\u001b[39m\n",
       "defined \u001b[32mtrait\u001b[39m \u001b[36mIsGoodBoy\u001b[39m\n",
       "defined \u001b[32mclass\u001b[39m \u001b[36mDog\u001b[39m\n",
       "\u001b[36md\u001b[39m: \u001b[32mDog\u001b[39m = ammonite.$sess.cell7$Helper$Dog@6a5f0667\n",
       "defined \u001b[32mfunction\u001b[39m \u001b[36mtakesGoodBoy\u001b[39m\n",
       "\u001b[36mres7_9\u001b[39m: \u001b[32mBoolean\u001b[39m = \u001b[32mtrue\u001b[39m"
      ]
     },
     "execution_count": 7,
     "metadata": {},
     "output_type": "execute_result"
    }
   ],
>>>>>>> Stashed changes
   "source": [
    "abstract class Animal(name: String) {\n",
    "  def makeSound(): String = name\n",
    "}\n",
    "trait IsFurry {\n",
    "    def HowFurry: String\n",
    "}\n",
    "trait IsGoodBoy {\n",
    "    def isGood = true\n",
    "}\n",
    "\n",
    "class Dog(name: String) extends Animal(name) with IsFurry with IsGoodBoy {\n",
    "    def HowFurry = \"very\"\n",
    "}\n",
    "\n",
    "val d = new Dog(\"Buddy\")\n",
    "println(d.makeSound())  // Output: Woof!\n",
    "println(d.isGood)\n",
    "println(d.HowFurry)\n",
    "def takesGoodBoy(x: IsGoodBoy): Boolean = x.isGood\n",
    "takesGoodBoy(d)"
   ]
  },
  {
   "cell_type": "markdown",
   "id": "fa0478fa",
   "metadata": {},
   "source": [
    "## Differences between Traits and Abstract Classes\n",
    "\n",
    "1. **Constructor Parameters**: Classes and abstract classes can have constructor parameters, traits cannot.\n",
    "2. **Multiple Inheritance**: A class can inherit multiple traits but only one class - abstract or otherwise.\n",
    "3. **Type of Inheritance**: Traits are mixed into classes using `extends` for the first trait and `with` for subsequent traits. Abstract classes use `extends`.\n",
    "4. **Instantiation**: Neither traits nor abstract classes can be instantiated.\n",
    "5. **Access Modifiers**: Abstract classes can have `protected` and `private` members, while traits cannot have `protected` members (but they can have `private` members).\n",
    "6. **Final Methods**: Both traits and abstract classes can contain final methods (methods that can't be overridden).\n",
    "7. **Linearization**: Traits support a feature called 'Linearization' which defines a clear hierarchy when multiple traits are mixed into a class."
   ]
  },
  {
   "cell_type": "markdown",
   "id": "ee289e07",
   "metadata": {
    "jp-MarkdownHeadingCollapsed": true
   },
   "source": [
    "## Exercise\n",
    "\n",
    "Try creating a trait and an abstract class that share a common method. Then create a class that inherits from both and overrides the common method."
   ]
  },
  {
   "cell_type": "code",
   "execution_count": null,
   "id": "61f5e1dc",
   "metadata": {
    "collapsed": false,
    "jupyter": {
     "outputs_hidden": false
    }
   },
   "outputs": [],
   "source": [
    "// Your code here"
   ]
  }
 ],
 "metadata": {
  "kernelspec": {
   "display_name": "Scala 2.12",
   "language": "scala",
   "name": "scala212"
  },
  "language_info": {
   "codemirror_mode": "text/x-scala",
   "file_extension": ".sc",
   "mimetype": "text/x-scala",
   "name": "scala",
   "nbconvert_exporter": "script",
   "version": "2.12.18"
  }
 },
 "nbformat": 4,
 "nbformat_minor": 5
}
