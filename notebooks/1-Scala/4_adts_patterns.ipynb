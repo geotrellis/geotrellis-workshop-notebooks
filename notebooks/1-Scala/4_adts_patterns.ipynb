{
 "cells": [
  {
   "cell_type": "markdown",
   "id": "7aec0ad3",
   "metadata": {},
   "source": [
    "# Algebraic Data Types and Pattern Matching in Scala\n",
    "\n",
    "Algebraic Data Types (ADTs) are a fundamental concept in functional programming languages like Scala. Combined with pattern matching, ADTs allow you to create complex yet maintainable code. This lesson explores how to define and use ADTs and dives into the power of pattern matching."
   ]
  },
  {
   "cell_type": "markdown",
   "id": "7c06f60c",
   "metadata": {},
   "source": [
    "## Algebraic Data Types (ADTs)\n",
    "\n",
    "An Algebraic Data Type is a type formed by composing other types. Scala mainly has two forms of ADTs: `Product types` and `Sum types`."
   ]
  },
  {
   "cell_type": "markdown",
   "id": "4e933412",
   "metadata": {},
   "source": [
    "### Product Types\n",
    "\n",
    "A Product type combines other types. A `case class` is the simplest form of a product type."
   ]
  },
  {
   "cell_type": "code",
   "execution_count": null,
   "id": "c4af3e86",
   "metadata": {},
   "outputs": [],
   "source": [
    "case class Circle(radius: Double)\n",
    "case class Rectangle(width: Double, height: Double)"
   ]
  },
  {
   "cell_type": "markdown",
   "id": "b64b15b4",
   "metadata": {},
   "source": [
    "### Sum Types\n",
    "\n",
    "A Sum type represents a choice between types. In Scala, we often use `sealed trait` combined with `case class` or `case object` to define sum types. The compiler will guarantee that pattern matches (a concept we'll look into momentarily) are exhaustive when dealing with sealed traits. The tradeoff is that new instances *cannot* be added after the fact and outside the file in which a sealed trait is declared."
   ]
  },
  {
   "cell_type": "code",
   "execution_count": null,
   "id": "af89a2dc-1b61-4342-a29d-3616fcda00c1",
   "metadata": {},
   "outputs": [],
   "source": [
    "sealed trait Shape\n",
    "case class Circle(radius: Double) extends Shape\n",
    "case class Rectangle(width: Double, height: Double) extends Shape\n",
    "case class Square(width: Double) extends Shape\n",
    "// This won't work. Case classes are not inheritable\n",
    "//case class Square(width: Double) extends Rectangle(width, width)"
   ]
  },
  {
   "cell_type": "code",
   "execution_count": 1,
   "id": "e18f64fe-4b84-45d3-9eca-663f6a89f37f",
   "metadata": {},
   "outputs": [
    {
     "data": {
      "text/plain": [
       "defined \u001b[32mtrait\u001b[39m \u001b[36mAdditionKeyword\u001b[39m\n",
       "defined \u001b[32mclass\u001b[39m \u001b[36mSum\u001b[39m\n",
       "defined \u001b[32mclass\u001b[39m \u001b[36mNum\u001b[39m\n",
       "\u001b[36madditionProblem\u001b[39m: \u001b[32mSum\u001b[39m = \u001b[33mSum\u001b[39m(\u001b[33mSum\u001b[39m(\u001b[33mSum\u001b[39m(\u001b[33mNum\u001b[39m(\u001b[32m5\u001b[39m), \u001b[33mNum\u001b[39m(\u001b[32m3\u001b[39m)), \u001b[33mNum\u001b[39m(\u001b[32m2\u001b[39m)), \u001b[33mNum\u001b[39m(\u001b[32m0\u001b[39m))\n",
       "defined \u001b[32mfunction\u001b[39m \u001b[36meval\u001b[39m\n",
       "\u001b[36mres1_5\u001b[39m: \u001b[32mInt\u001b[39m = \u001b[32m10\u001b[39m"
      ]
     },
     "execution_count": 1,
     "metadata": {},
     "output_type": "execute_result"
    }
   ],
   "source": [
    "sealed trait AdditionKeyword\n",
    "case class Sum(x: AdditionKeyword, y: AdditionKeyword) extends AdditionKeyword\n",
    "case class Num(x: Int) extends AdditionKeyword\n",
    "\n",
    "val additionProblem = Sum(Sum(Sum(Num(5), Num(3)), Num(2)), Num(0))\n",
    "def eval(x: AdditionKeyword): Int = x match {\n",
    "    case Num(number) => number\n",
    "    case Sum(ak1, ak2) => eval(ak1) + eval(ak2)\n",
    "}\n",
    "eval(additionProblem)"
   ]
  },
  {
   "cell_type": "code",
   "execution_count": 11,
   "id": "9179374b-30f4-4213-b428-2a4f6e3a2246",
   "metadata": {},
   "outputs": [
    {
     "ename": "java.lang.Exception",
     "evalue": "This also works",
     "output_type": "error",
     "traceback": [
      "\u001b[31mjava.lang.Exception: This also works\u001b[39m",
      "  ammonite.$sess.cell11$Helper.$anonfun$res11_1$1(\u001b[32mcell11.sc\u001b[39m:\u001b[32m3\u001b[39m)",
      "  scala.Option.getOrElse(\u001b[32mOption.scala\u001b[39m:\u001b[32m189\u001b[39m)",
      "  ammonite.$sess.cell11$Helper.<init>(\u001b[32mcell11.sc\u001b[39m:\u001b[32m3\u001b[39m)",
      "  ammonite.$sess.cell11$.<init>(\u001b[32mcell11.sc\u001b[39m:\u001b[32m7\u001b[39m)",
      "  ammonite.$sess.cell11$.<clinit>(\u001b[32mcell11.sc\u001b[39m:\u001b[32m-1\u001b[39m)"
     ]
    }
   ],
   "source": [
    "val thing: Option[String] = None //Some(\"thing\")\n",
    "\n",
    "thing.getOrElse(throw new Exception(\"This also works\"))"
   ]
  },
  {
   "cell_type": "markdown",
   "id": "5e5f6b52",
   "metadata": {},
   "source": [
    "## Pattern Matching\n",
    "\n",
    "Pattern matching is a mechanism for checking a value against a pattern. It's a more powerful version of other constructs you may be familiar with, like `switch` statements in some other languages. Let's look at an example of failing exhaustive pattern matching:"
   ]
  },
  {
   "cell_type": "code",
   "execution_count": null,
   "id": "b65009c2",
   "metadata": {},
   "outputs": [],
   "source": [
    "def describeShape(s: Shape): String = s match {\n",
    "    case Circle(radius) => s\"A circle with radius $radius\"\n",
    "    case Rectangle(width, height) => s\"A rectangle with width $width and height $height\"\n",
    "    case Square(width) => s\"A square with width of $width\"\n",
    "}"
   ]
  },
  {
   "cell_type": "markdown",
   "id": "d195246c-7753-401e-a1b4-e87bb255e073",
   "metadata": {},
   "source": [
    "And here's what happens if we leave out one of the cases:"
   ]
  },
  {
   "cell_type": "code",
   "execution_count": null,
   "id": "39ceed54-cc49-462b-9803-a2819be5d950",
   "metadata": {},
   "outputs": [],
   "source": [
    "def describeShape(s: Shape): String = s match {\n",
    "  case Circle(radius) => s\"A circle with radius $radius\"\n",
    "  case Rectangle(width, height) => s\"A rectangle with width $width and height $height\"\n",
    "}"
   ]
  },
  {
   "cell_type": "markdown",
   "id": "b6661689",
   "metadata": {},
   "source": [
    "## Power of Pattern Matching\n",
    "\n",
    "1. **Expressiveness**: Quickly destructure complex types and access their members.\n",
    "2. **Safety**: The compiler warns you about missing or redundant patterns.\n",
    "3. **Readability**: Makes the code more intuitive and easier to understand.\n",
    "4. **Functional Paradigm**: Allows for cleaner, more declarative code, especially when combined with ADTs."
   ]
  },
  {
   "cell_type": "markdown",
   "id": "739df16b",
   "metadata": {},
   "source": [
    "## Exercise\n",
    "\n",
    "1. Define an ADT to represent a `TrafficLight` which can be Red, Yellow, or Green.\n",
    "2. Use pattern matching to define a function `canGo` that takes a `TrafficLight` and returns whether or not one can go.\n",
    "3. Bonus: Extend the `Shape` ADT to include `Triangle` and update the `describeShape` function."
   ]
  },
  {
   "cell_type": "code",
   "execution_count": null,
   "id": "1292d1a7",
   "metadata": {
    "collapsed": false,
    "jupyter": {
     "outputs_hidden": false
    }
   },
   "outputs": [],
   "source": [
    "// Your code here"
   ]
  }
 ],
 "metadata": {
  "kernelspec": {
   "display_name": "Scala 2.12",
   "language": "scala",
   "name": "scala212"
  },
  "language_info": {
   "codemirror_mode": "text/x-scala",
   "file_extension": ".sc",
   "mimetype": "text/x-scala",
   "name": "scala",
   "nbconvert_exporter": "script",
   "version": "2.12.18"
  }
 },
 "nbformat": 4,
 "nbformat_minor": 5
}
