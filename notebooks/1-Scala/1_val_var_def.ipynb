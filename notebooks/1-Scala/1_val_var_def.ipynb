{
 "cells": [
  {
   "cell_type": "markdown",
   "id": "78f1be88",
   "metadata": {},
   "source": [
    "# Val, Var, and Def in Scala\n",
    "\n",
    "Scala provides various ways to define variables and methods, each with its own characteristics and use-cases. In this lesson, we'll focus on `val`, `var`, and `def`, and briefly touch upon the `lazy` keyword."
   ]
  },
  {
   "cell_type": "markdown",
   "id": "ee41f0ab",
   "metadata": {},
   "source": [
    "## val: Immutable Variables\n",
    "\n",
    "A `val` is an immutable variable. Once assigned, its value cannot be changed. It's similar to defining a constant in Python."
   ]
  },
  {
   "cell_type": "code",
   "execution_count": null,
   "id": "09bf493e",
   "metadata": {},
   "outputs": [],
   "source": [
    "val pi: Double = 3.14159\n",
    "// pi = 4  // Uncommenting this line will produce a compilation error"
   ]
  },
  {
   "cell_type": "markdown",
   "id": "42c52f5c",
   "metadata": {},
   "source": [
    "## var: Mutable Variables\n",
    "\n",
    "A `var` is a mutable variable. Its value can be changed after the initial assignment. This is akin to standard variables in Python."
   ]
  },
  {
   "cell_type": "code",
   "execution_count": null,
   "id": "5458f321",
   "metadata": {},
   "outputs": [],
   "source": [
    "var x: Int = 10\n",
    "x = 20  // Reassignment is fine"
   ]
  },
  {
   "cell_type": "markdown",
   "id": "033042c4",
   "metadata": {},
   "source": [
    "## def: Methods\n",
    "\n",
    "`def` is used for method declarations. Unlike `val` and `var`, a `def` expression gets evaluated every time it is called."
   ]
  },
  {
   "cell_type": "code",
   "execution_count": null,
   "id": "566e6748",
   "metadata": {},
   "outputs": [],
   "source": [
    "def greet(): String = {\n",
    "  \"Hello, world!\"\n",
    "}\n",
    "\n",
    "println(greet())  // Output: Hello, world!"
   ]
  },
  {
   "cell_type": "markdown",
   "id": "d3010227",
   "metadata": {},
   "source": [
    "## Lazy Initialization\n",
    "\n",
    "The `lazy` keyword can be used with `val` for lazy initialization. The variable will not be computed until it's accessed for the first time."
   ]
  },
  {
   "cell_type": "code",
   "execution_count": null,
   "id": "e0bc90fa",
   "metadata": {},
   "outputs": [],
   "source": [
    "lazy val y: Int = {\n",
    "  println(\"Computing Y\")\n",
    "  42\n",
    "}\n",
    "\n",
    "println(\"Before accessing Y\")\n",
    "println(y)  // This will trigger the computation and \"Computing Y\" will be printed"
   ]
  },
  {
   "cell_type": "markdown",
   "id": "44541188-6392-421a-abe1-8dbecacf82a0",
   "metadata": {},
   "source": [
    "## Mixed Use\n",
    "\n"
   ]
  },
  {
   "cell_type": "markdown",
   "id": "16e33b46",
   "metadata": {},
   "source": [
    "## Comparisons and Use-cases\n",
    "\n",
    "1. **Mutability**: `val` is immutable, `var` is mutable, and `def` is evaluated anew each time it's called.\n",
    "2. **Initialization**: `val` is eagerly initialized, `var` is also eagerly initialized, and `def` is evaluated on-demand. `lazy val` is lazily initialized.\n",
    "3. **Performance**: `val` is efficient for constants, `var` for mutable variables, `def` for dynamic computations, and `lazy val` for optional or expensive operations.\n",
    "4. **Syntax**: `val` and `var` are straightforward. `def` needs parentheses for methods, even if they take no arguments. `lazy val` uses the `lazy` keyword.\n",
    "5. **Thread Safety**: `lazy val` is thread-safe, whereas `val` and `var` are not inherently so. `def` depends on the implementation.\n",
    "6. **Use-cases**: Use `val` for constants or immutable data, `var` for mutable data, `def` for methods or computations, and `lazy val` for expensive or optional computations."
   ]
  },
  {
   "cell_type": "markdown",
   "id": "758894ab",
   "metadata": {},
   "source": [
    "## Exercise\n",
    "\n",
    "1. Create a `val` for a constant value.\n",
    "2. Create a `var` and try reassigning it.\n",
    "3. Create a `def` for a simple calculation.\n",
    "4. Create a `lazy val` for an optional or expensive computation and observe its behavior.\n",
    "5. Bonus: Try to create a thread-safe operation using `lazy val`."
   ]
  },
  {
   "cell_type": "code",
   "execution_count": null,
   "id": "fa4db054",
   "metadata": {
    "collapsed": false,
    "jupyter": {
     "outputs_hidden": false
    }
   },
   "outputs": [],
   "source": [
    "// Your code here"
   ]
  }
 ],
 "metadata": {
  "kernelspec": {
   "display_name": "Scala 2.12",
   "language": "scala",
   "name": "scala212"
  },
  "language_info": {
   "codemirror_mode": "text/x-scala",
   "file_extension": ".sc",
   "mimetype": "text/x-scala",
   "name": "scala",
   "nbconvert_exporter": "script",
   "version": "2.12.18"
  }
 },
 "nbformat": 4,
 "nbformat_minor": 5
}
