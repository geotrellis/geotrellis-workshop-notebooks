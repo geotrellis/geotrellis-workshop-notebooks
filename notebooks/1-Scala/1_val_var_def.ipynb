{
 "cells": [
  {
   "cell_type": "markdown",
   "id": "78f1be88",
   "metadata": {},
   "source": [
    "# Val, Var, and Def in Scala\n",
    "\n",
    "Scala provides various ways to define variables and methods, each with its own characteristics and use-cases. In this lesson, we'll focus on `val`, `var`, and `def`, and briefly touch upon the `lazy` keyword."
   ]
  },
  {
   "cell_type": "markdown",
   "id": "ee41f0ab",
   "metadata": {},
   "source": [
    "## val: Immutable Variables\n",
    "\n",
    "A `val` is an immutable variable. Once assigned, its value cannot be changed. It's similar to defining a constant in Python."
   ]
  },
  {
   "cell_type": "code",
<<<<<<< Updated upstream
   "execution_count": null,
   "id": "09bf493e",
   "metadata": {},
   "outputs": [],
=======
   "execution_count": 5,
   "id": "09bf493e",
   "metadata": {},
   "outputs": [
    {
     "data": {
      "text/plain": [
       "\u001b[36mpi\u001b[39m: \u001b[32mDouble\u001b[39m = \u001b[32m3.14159\u001b[39m\n",
       "\u001b[36mplus2\u001b[39m: \u001b[32mInt\u001b[39m => \u001b[32mInt\u001b[39m = ammonite.$sess.cell5$Helper$$Lambda$2600/206731586@306d225f\n",
       "\u001b[36mres5_2\u001b[39m: \u001b[32mInt\u001b[39m = \u001b[32m6\u001b[39m"
      ]
     },
     "execution_count": 5,
     "metadata": {},
     "output_type": "execute_result"
    }
   ],
>>>>>>> Stashed changes
   "source": [
    "val pi = 3.14159\n",
    "// pi = 4  // Uncommenting this line will produce a compilation error"
   ]
  },
  {
   "cell_type": "markdown",
   "id": "42c52f5c",
   "metadata": {},
   "source": [
    "## var: Mutable Variables\n",
    "\n",
    "A `var` is a mutable variable. Its value can be changed after the initial assignment. This is akin to standard variables in Python."
   ]
  },
  {
   "cell_type": "code",
   "execution_count": null,
   "id": "5458f321",
   "metadata": {},
   "outputs": [],
   "source": [
    "var x: Int = 10\n",
    "x = 20  // Reassignment is fine"
   ]
  },
  {
   "cell_type": "markdown",
   "id": "033042c4",
   "metadata": {},
   "source": [
    "## def: Methods\n",
    "\n",
    "`def` is used for method declarations. Unlike `val` and `var`, a `def` expression gets evaluated every time it is called."
   ]
  },
  {
   "cell_type": "code",
<<<<<<< Updated upstream
   "execution_count": null,
   "id": "566e6748",
   "metadata": {},
   "outputs": [],
=======
   "execution_count": 6,
   "id": "566e6748",
   "metadata": {},
   "outputs": [
    {
     "name": "stdout",
     "output_type": "stream",
     "text": [
      "2023-10-05T16:55:58.646\n",
      "2023-10-05T16:55:59.647\n"
     ]
    },
    {
     "data": {
      "text/plain": [
       "defined \u001b[32mfunction\u001b[39m \u001b[36mtheTime\u001b[39m"
      ]
     },
     "execution_count": 6,
     "metadata": {},
     "output_type": "execute_result"
    }
   ],
>>>>>>> Stashed changes
   "source": [
    "def theTime: String = java.time.LocalDateTime.now().toString\n",
    "\n",
    "// Note that each time a `def` is referenced, it actually *reevaluates* its result\n",
    "println(theTime)\n",
    "Thread.sleep(1000)\n",
    "println(theTime)\n"
   ]
  },
  {
   "cell_type": "markdown",
   "id": "d3010227",
   "metadata": {},
   "source": [
    "## Lazy Initialization\n",
    "\n",
    "The `lazy` keyword can be used with `val` for lazy initialization. The variable will not be computed until it's accessed for the first time."
   ]
  },
  {
   "cell_type": "code",
<<<<<<< Updated upstream
   "execution_count": null,
   "id": "e0bc90fa",
   "metadata": {},
   "outputs": [],
=======
   "execution_count": 8,
   "id": "e0bc90fa",
   "metadata": {},
   "outputs": [
    {
     "name": "stdout",
     "output_type": "stream",
     "text": [
      "Computing Y\n",
      "2023-10-05T17:02:35.687\n",
      "2023-10-05T17:02:35.687\n",
      "Computing Z\n",
      "2023-10-05T17:02:37.691\n",
      "Computing Z\n",
      "2023-10-05T17:02:38.693\n"
     ]
    },
    {
     "data": {
      "text/html": [
       "<div class=\"jp-RenderedText\">\n",
       "<pre><code><span style=\"color: rgb(0, 187, 187)\"><span class=\"ansi-cyan-fg\">y</span></span>: <span style=\"color: rgb(0, 187, 0)\"><span class=\"ansi-green-fg\">String</span></span> = <span style=\"color: white\"><span class=\"ansi-white-fg\">[lazy]</span></span>\n",
       "defined <span style=\"color: rgb(0, 187, 0)\"><span class=\"ansi-green-fg\">function</span></span> <span style=\"color: rgb(0, 187, 187)\"><span class=\"ansi-cyan-fg\">z</span></span></code></pre>\n",
       "</div>"
      ],
      "text/plain": [
       "\u001b[36my\u001b[39m: \u001b[32mString\u001b[39m = \u001b[37m[lazy]\u001b[39m\n",
       "defined \u001b[32mfunction\u001b[39m \u001b[36mz\u001b[39m"
      ]
     },
     "metadata": {},
     "output_type": "display_data"
    }
   ],
>>>>>>> Stashed changes
   "source": [
    "lazy val y: String = {\n",
    "  println(\"Computing Y\")\n",
    "  theTime\n",
    "}\n",
    "def z: String = {\n",
    "  println(\"Computing Z\")\n",
    "  theTime\n",
    "}\n",
    "\n",
    "println(y) // This will trigger the computation and \"Computing Y\" will be printed\n",
    "Thread.sleep(1000)\n",
    "\n",
    "println(y) // Note that \"Computing Y\" is only printed once. Compare to z, below\n",
    "Thread.sleep(1000)\n",
    "\n",
    "println(z)\n",
    "Thread.sleep(1000)\n",
    "\n",
    "println(z)"
   ]
  },
  {
   "cell_type": "code",
   "execution_count": 11,
   "id": "60100f1a-02c0-4186-a06b-70c8fd54b6f4",
   "metadata": {},
   "outputs": [
    {
     "name": "stdout",
     "output_type": "stream",
     "text": [
      "6\n"
     ]
    },
    {
     "data": {
      "text/plain": [
       "\u001b[36mmyNumber\u001b[39m: \u001b[32mInt\u001b[39m = \u001b[32m6\u001b[39m\n",
       "defined \u001b[32mfunction\u001b[39m \u001b[36mplus2\u001b[39m"
      ]
     },
     "execution_count": 11,
     "metadata": {},
     "output_type": "execute_result"
    }
   ],
   "source": [
    "val myNumber = 6\n",
    "def plus2(num: Int): Int = {\n",
    "    val myNumber = num\n",
    "    myNumber + 2\n",
    "}\n",
    "println(myNumber)"
   ]
  },
  {
   "cell_type": "markdown",
   "id": "44541188-6392-421a-abe1-8dbecacf82a0",
   "metadata": {},
   "source": [
    "## Mixed Use\n",
    "\n"
   ]
  },
  {
   "cell_type": "markdown",
   "id": "16e33b46",
   "metadata": {},
   "source": [
    "## Comparisons and Use-cases\n",
    "\n",
    "1. **Mutability**: `val` is immutable, `var` is mutable, and `def` is evaluated anew each time it's called.\n",
    "2. **Initialization**: `val` is eagerly initialized, `var` is also eagerly initialized, and `def` is evaluated on-demand. `lazy val` is lazily initialized.\n",
    "3. **Performance**: `val` is efficient for constants, `var` for mutable variables, `def` for dynamic computations, and `lazy val` for optional or expensive operations as it only computes once and at the point of need.\n",
    "4. **Thread Safety**: `lazy val` is thread-safe, whereas `val` and `var` are not inherently so. `def` depends on the implementation."
   ]
  },
  {
   "cell_type": "markdown",
   "id": "758894ab",
   "metadata": {},
   "source": [
    "## Exercise\n",
    "\n",
    "1. Create a `val` for a constant value.\n",
    "2. Create a `var` and try reassigning it.\n",
    "3. Create a `def` for a simple calculation.\n",
    "4. Create a `lazy val` for an optional or expensive computation and observe its behavior.\n",
    "5. Bonus: Try to create a thread-safe operation using `lazy val`."
   ]
  },
  {
   "cell_type": "code",
   "execution_count": null,
   "id": "fa4db054",
   "metadata": {
    "collapsed": false,
    "jupyter": {
     "outputs_hidden": false
    }
   },
   "outputs": [],
   "source": [
    "// Your code here"
   ]
  }
 ],
 "metadata": {
  "kernelspec": {
   "display_name": "Scala 2.12",
   "language": "scala",
   "name": "scala212"
  },
  "language_info": {
   "codemirror_mode": "text/x-scala",
   "file_extension": ".sc",
   "mimetype": "text/x-scala",
   "name": "scala",
   "nbconvert_exporter": "script",
   "version": "2.12.18"
  }
 },
 "nbformat": 4,
 "nbformat_minor": 5
}
