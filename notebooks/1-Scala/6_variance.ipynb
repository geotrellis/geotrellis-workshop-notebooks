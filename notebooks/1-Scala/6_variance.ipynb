{
 "cells": [
  {
   "cell_type": "markdown",
   "id": "a8a7f1a2",
   "metadata": {},
   "source": [
    "# Variance, Covariance, and Invariance in Scala\n",
    "\n",
    "In this section, we'll explore the concept of variance in Scala, how it impacts the type hierarchy, and why it's important in generic programming."
   ]
  },
  {
   "cell_type": "markdown",
   "id": "e18cca87",
   "metadata": {},
   "source": [
    "## What is Variance?\n",
    "\n",
    "Variance defines the relationship between a generic class and its type parameters concerning the class hierarchy. In simpler terms, it specifies how the subclass-parent class relationship between types translates to a relationship between instances of a generic class of those types."
   ]
  },
  {
   "cell_type": "markdown",
   "id": "7c5de142",
   "metadata": {},
   "source": [
    "## Notation\n",
    "\n",
    "1. **Covariance**: `+T`\n",
    "2. **Contravariance**: `-T`\n",
    "3. **Invariance**: `T`\n",
    "\n",
    "These notations are used as type annotations in Scala."
   ]
  },
  {
   "cell_type": "code",
   "execution_count": null,
   "id": "c4e5e086",
   "metadata": {},
   "outputs": [],
   "source": [
    "// Covariant class\n",
    "class Covariant[+A]\n",
    "\n",
    "// Contravariant class\n",
    "class Contravariant[-A]\n",
    "\n",
    "// Invariant class\n",
    "class Invariant[A]"
   ]
  },
  {
   "cell_type": "markdown",
   "id": "c4766a77",
   "metadata": {},
   "source": [
    "## Covariance\n",
    "\n",
    "A covariant class means that if `A` is a subtype of `B`, then `Class[A]` is a subtype of `Class[B]`."
   ]
  },
  {
   "cell_type": "code",
   "execution_count": null,
   "id": "df003c15",
   "metadata": {},
   "outputs": [],
   "source": [
    "class Animal\n",
    "class Dog extends Animal\n",
    "\n",
    "val dog: Dog = new Dog\n",
    "val animal: Animal = dog // Dog is a subtype of Animal\n",
    "\n",
    "val dogs: Covariant[Dog] = new Covariant[Dog]\n",
    "val animals: Covariant[Animal] = dogs // Covariant[Dog] is a subtype of Covariant[Animal]"
   ]
  },
  {
   "cell_type": "markdown",
   "id": "f30e14b6",
   "metadata": {},
   "source": [
    "## Contravariance\n",
    "\n",
    "A contravariant class means that if `A` is a subtype of `B`, then `Class[B]` is a subtype of `Class[A]`."
   ]
  },
  {
   "cell_type": "code",
   "execution_count": null,
   "id": "da07cce0",
   "metadata": {},
   "outputs": [],
   "source": [
    "val animals: Contravariant[Animal] = new Contravariant[Animal]\n",
    "val dogs: Contravariant[Dog] = animals // Contravariant[Animal] is a subtype of Contravariant[Dog]"
   ]
  },
  {
   "cell_type": "markdown",
   "id": "35ea8c8b",
   "metadata": {},
   "source": [
    "## Invariance\n",
    "\n",
    "If a class is invariant, neither covariance nor contravariance applies."
   ]
  },
  {
   "cell_type": "code",
   "execution_count": null,
   "id": "52249c11",
   "metadata": {},
   "outputs": [],
   "source": [
    "val dogs: Invariant[Dog] = new Invariant[Dog]\n",
    "// val animals: Invariant[Animal] = dogs // This will not compile"
   ]
  },
  {
   "cell_type": "markdown",
   "id": "5ff69cea-b39c-499b-b401-a79a8a8a4c9f",
   "metadata": {},
   "source": [
    "## An illustration of why this matters\n",
    "\n",
    "In scala, mutable structures tend to be invariant whereas immutable structures are free to covary. Why is that? Let's take a look at an example."
   ]
  },
  {
   "cell_type": "code",
   "execution_count": 6,
   "id": "753996dd-513d-4d8c-9a20-a58cf52ab99b",
   "metadata": {},
   "outputs": [
    {
     "data": {
      "text/plain": [
       "\u001b[32mimport \u001b[39m\u001b[36mscala.collection.mutable.ArrayBuffer\u001b[39m\n",
       "\u001b[36manyInt\u001b[39m: \u001b[32mAny\u001b[39m = \u001b[32m4\u001b[39m\n",
       "\u001b[36mbuffer\u001b[39m: \u001b[32mArrayBuffer\u001b[39m[\u001b[32mInt\u001b[39m] = \u001b[33mArrayBuffer\u001b[39m(\u001b[32m1\u001b[39m, \u001b[32m2\u001b[39m, \u001b[32m3\u001b[39m)\n",
       "\u001b[36mlist\u001b[39m: \u001b[32mList\u001b[39m[\u001b[32mInt\u001b[39m] = \u001b[33mList\u001b[39m(\u001b[32m1\u001b[39m, \u001b[32m2\u001b[39m, \u001b[32m3\u001b[39m)\n",
       "\u001b[36mnewList\u001b[39m: \u001b[32mList\u001b[39m[\u001b[32mAny\u001b[39m] = \u001b[33mList\u001b[39m(\u001b[32m4\u001b[39m, \u001b[32m1\u001b[39m, \u001b[32m2\u001b[39m, \u001b[32m3\u001b[39m)"
      ]
     },
     "execution_count": 6,
     "metadata": {},
     "output_type": "execute_result"
    }
   ],
   "source": [
    "import scala.collection.mutable.ArrayBuffer\n",
    "\n",
    "val anyInt: Any = 4\n",
    "// Mutable:\n",
    "val buffer = ArrayBuffer[Int](1, 2, 3)\n",
    "// This will not work.\n",
    "// buffer += anyInt\n",
    "\n",
    "// Immutable (keep an eye on the types in output!)\n",
    "val list = List[Int](1,2,3)\n",
    "val newList = anyInt :: list"
   ]
  },
  {
   "cell_type": "markdown",
   "id": "3d394e92",
   "metadata": {},
   "source": [
    "## When to Use What?\n",
    "\n",
    "1. **Covariance**: Useful for 'output' types (e.g., collections that can be iterated)\n",
    "2. **Contravariance**: Useful for 'input' types (e.g., function arguments)\n",
    "3. **Invariance**: Useful when a type parameter is used both as input and output\n",
    "\n",
    "Understanding variance can help you create more flexible and reusable code. However, misuse can lead to unintended consequences, so tread carefully! If you want to dig deeper into these relationships, check out [this short video](https://www.youtube.com/watch?v=QDzPNv4UIkY) from Martin Odersky."
   ]
  },
  {
   "cell_type": "markdown",
   "id": "c0133933",
   "metadata": {},
   "source": [
    "## Exercise\n",
    "\n",
    "1. Try to implement a `Queue` class that allows enqueuing and dequeuing operations. What kind of variance would be appropriate for this?"
   ]
  }
 ],
 "metadata": {
  "kernelspec": {
   "display_name": "Scala 2.12",
   "language": "scala",
   "name": "scala212"
  },
  "language_info": {
   "codemirror_mode": "text/x-scala",
   "file_extension": ".sc",
   "mimetype": "text/x-scala",
   "name": "scala",
   "nbconvert_exporter": "script",
   "version": "2.12.18"
  }
 },
 "nbformat": 4,
 "nbformat_minor": 5
}
