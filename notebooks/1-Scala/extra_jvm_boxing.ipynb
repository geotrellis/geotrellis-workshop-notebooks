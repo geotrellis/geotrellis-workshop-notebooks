{
 "cells": [
  {
   "cell_type": "markdown",
   "metadata": {},
   "source": [
    "# JVM Boxing, Specialization, and Spire Optimization\n",
    "\n",
    "## What is Boxing?\n",
    "In the Java Virtual Machine (JVM), **boxing** refers to the process of wrapping a primitive type (e.g., `int`, `float`) in its corresponding reference type (e.g., `Integer`, `Float`). The opposite process is called **unboxing**, where the reference type is unwrapped to get its primitive value. Scala, being a JVM language, inherits this behavior.\n",
    "\n",
    "## Specialization in Scala\n",
    "Scala provides a mechanism called **specialization** to avoid boxing overhead in certain cases. Specialization allows the JVM to use primitive values directly for specific type parameters. Essentially, bytecode is duplicated for each specialized type, trading jar size for significant performance improvements which would otherwise be lost as a consequence of working with generic functions that range over numeric types. This is achieved using the `@specialized` annotation. Let's see a quick demonstration of how specialization can be used."
   ]
  },
  {
   "cell_type": "code",
   "execution_count": null,
   "metadata": {},
   "outputs": [],
   "source": [
    "class SpecializedContainer[@specialized T](value: T) {\n",
    "  def get: T = value\n",
    "}\n",
    "\n",
    "val intContainer = new SpecializedContainer(42)\n",
    "val stringContainer = new SpecializedContainer(\"Hello\")\n",
    "\n",
    "intContainer.get\n",
    "stringContainer.get"
   ]
  },
  {
   "cell_type": "markdown",
   "metadata": {},
   "source": [
    "The `SpecializedContainer` class will have specialized bytecode generated for primitive types, thanks to the `@specialized` annotation.\n",
    "## The Spire Library\n",
    "Spire is a numeric library for Scala that provides abstractions for generic math operations, and it is designed to avoid boxing wherever possible. Spire leverages Scala's specialization feature and other techniques to achieve this."
   ]
  },
  {
   "cell_type": "code",
   "execution_count": null,
   "metadata": {},
   "outputs": [],
   "source": [
    "import $ivy.`org.typelevel::spire:0.17.0`\n",
    "import spire.math._\n",
    "import spire.implicits._\n",
    "\n",
    "def sum[A](xs: Traversable[A])(implicit num: Numeric[A]): A = {\n",
    "  xs.foldLeft(num.zero)(num.plus)\n",
    "}\n",
    "\n",
    "val intList = List(1, 2, 3, 4, 5)\n",
    "val doubleList = List(1.0, 2.0, 3.0, 4.0, 5.0)\n",
    "\n",
    "println(sum(intList))      // 15\n",
    "println(sum(doubleList))   // 15.0"
   ]
  },
  {
   "cell_type": "markdown",
   "metadata": {},
   "source": [
    "In the `spireSum` method, Spire's `Numeric` type class is used. Due to specialization, the method can work with both primitive types and boxed types without incurring the overhead of boxing.\n",
    "## Conclusion\n",
    "Boxing can introduce performance bottlenecks, especially in numeric-intensive operations. Libraries like Spire offer abstractions that leverage Scala's specialization feature to provide performant generic math operations without the overhead of boxing."
   ]
  }
 ],
 "metadata": {
  "kernelspec": {
   "display_name": "Scala 2.12",
   "language": "scala",
   "name": "scala212"
  },
  "language_info": {
   "codemirror_mode": "text/x-scala",
   "file_extension": ".sc",
   "mimetype": "text/x-scala",
   "name": "scala",
   "nbconvert_exporter": "script",
   "version": "2.12.18"
  }
 },
 "nbformat": 4,
 "nbformat_minor": 4
}
