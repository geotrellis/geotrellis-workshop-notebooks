{
 "cells": [
  {
   "cell_type": "markdown",
   "id": "c76b5988",
   "metadata": {},
   "source": [
    "# Understanding Higher-Kinded Types in Scala\n",
    "\n",
    "Higher-kinded types are types of a higher kind. That might sound circular, but it really comes down to levels of abstraction. While generic types abstract over types, higher-kinded types abstract over generic types. Let's break this down."
   ]
  },
  {
   "cell_type": "markdown",
   "id": "fce14899",
   "metadata": {},
   "source": [
    "## The 'Kind' of a Type\n",
    "\n",
    "In Scala, we often talk about the 'kind' of a type to express its level of abstraction.\n",
    "- The kind of `Int` is `*`, meaning it's a concrete type.\n",
    "- The kind of `List` is `* -> *`, meaning it takes a concrete type and returns another concrete type.\n",
    "- The kind of `Either` is `* -> * -> *`, meaning it takes two concrete types and returns a concrete type."
   ]
  },
  {
   "cell_type": "markdown",
   "id": "ea083495",
   "metadata": {},
   "source": [
    "## Basic Example\n",
    "\n",
    "Let's start with a simple (relatively speaking... none of this is particularly simple, but practice renders it far less mystical) example that demonstrates a method that abstracts over different container types.\n",
    "\n",
    "Note that the instances provided here are type classes! We've already seen companion objects and the use of implicits to define type-safe equivalents of duck typing, so recall that in the wild it these implicit implementations would likely live inside their companion objects (`List` and `Option`, respectively)."
   ]
  },
  {
   "cell_type": "code",
   "execution_count": null,
   "id": "c4ae1a74",
   "metadata": {},
   "outputs": [],
   "source": [
    "trait Functor[F[_]] {\n",
    "  def map[A, B](fa: F[A])(f: A => B): F[B]\n",
    "}\n",
    "\n",
    "def transform[F[_], A, B](container: F[A], f: A => B)(implicit functor: Functor[F]): F[B] = {\n",
    "  functor.map(container)(f)\n",
    "}\n",
    "\n",
    "// Functor instance for List\n",
    "implicit object ListFunctor extends Functor[List] {\n",
    "  def map[A, B](fa: List[A])(f: A => B): List[B] = fa.map(f)\n",
    "}\n",
    "\n",
    "// Functor instance for Option\n",
    "implicit object OptionFunctor extends Functor[Option] {\n",
    "  def map[A, B](fa: Option[A])(f: A => B): Option[B] = fa.map(f)\n",
    "}\n",
    "\n",
    "// Using ListFunctor\n",
    "val list1 = List(1, 2, 3)\n",
    "val list2 = transform(list1, (x: Int) => x + 1)\n",
    "\n",
    "// Using OptionFunctor\n",
    "val opt1: Option[Int] = Some(1)\n",
    "val opt2 = transform(opt1, (x: Int) => x + 1)\n"
   ]
  },
  {
   "cell_type": "markdown",
   "id": "bd3a37d6",
   "metadata": {},
   "source": [
    "Here, `Functor` is a higher-kinded type. It abstracts over types that themselves abstract over types.\n",
    "\n",
    "> NOTE: We've included an explicit type (`Option[Int]`). This is because of a subtle and tricky difficulty in Scala's type inference. Because our `Functor` instance is defined over `Option`s, we need `opt1` to be recognized as an `Option` rather than one of its subtypes (in this case, `Some`). By telling the compiler that our `Some` should be upcast to the type of `Option`, we can skirt a compilation issue. Try removing the explicit type argument so that you can see how things go wrong."
   ]
  },
  {
   "cell_type": "markdown",
   "id": "4a77f9fe",
   "metadata": {},
   "source": [
    "## Why Higher-Kinded Types?\n",
    "\n",
    "Higher-kinded types shine in their ability to write extremely generic code. They are often used in:\n",
    "- Abstracting over various container types (`List`, `Option`, `Future`)\n",
    "- Libraries that require a high level of code reuse\n",
    "- Algebraic structures in functional programming like `Functors`, `Monads`, etc."
   ]
  },
  {
   "cell_type": "markdown",
   "id": "31961ba4",
   "metadata": {},
   "source": [
    "## Exercise\n",
    "\n",
    "1. Create a higher-kinded type `Container` with a method `isEmpty` that checks whether the container is empty.\n",
    "2. Implement `Container` for `List` and `Option`."
   ]
  }
 ],
 "metadata": {
  "kernelspec": {
   "display_name": "Scala 2.12",
   "language": "scala",
   "name": "scala212"
  },
  "language_info": {
   "codemirror_mode": "text/x-scala",
   "file_extension": ".sc",
   "mimetype": "text/x-scala",
   "name": "scala",
   "nbconvert_exporter": "script",
   "version": "2.12.18"
  }
 },
 "nbformat": 4,
 "nbformat_minor": 5
}
