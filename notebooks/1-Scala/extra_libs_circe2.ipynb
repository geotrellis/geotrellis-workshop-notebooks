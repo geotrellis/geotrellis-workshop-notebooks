{
 "cells": [
  {
   "cell_type": "markdown",
   "metadata": {},
   "source": [
    "# Circe: Advanced - Creating Custom Encoders and Decoders (Extended)"
   ]
  },
  {
   "cell_type": "markdown",
   "metadata": {},
   "source": [
    "## Setup"
   ]
  },
  {
   "cell_type": "code",
   "execution_count": null,
   "metadata": {},
   "outputs": [],
   "source": [
    "import $ivy.`io.circe::circe-core:0.14.1`, $ivy.`io.circe::circe-generic:0.14.1`, $ivy.`io.circe::circe-parser:0.14.1`"
   ]
  },
  {
   "cell_type": "markdown",
   "metadata": {},
   "source": [
    "## Creating Custom Encoders and Decoders"
   ]
  },
  {
   "cell_type": "markdown",
   "metadata": {},
   "source": [
    "### Manual Creation\n",
    "\n",
    "This style of codec creation is very verbose and a little bit annoying. It is, however, very low level and allows a great deal of flexibility. Usually, there is a better way."
   ]
  },
  {
   "cell_type": "code",
   "execution_count": null,
   "metadata": {},
   "outputs": [],
   "source": [
    "import io.circe.{Json => CirceJson, _}\n",
    "\n",
    "case class Student(name: String, grade: Int)\n",
    "\n",
    "implicit val encodeStudent: Encoder[Student] = new Encoder[Student] {\n",
    "  final def apply(s: Student): CirceJson = CirceJson.obj(\n",
    "    (\"name\", CirceJson.fromString(s.name)),\n",
    "    (\"grade\", CirceJson.fromInt(s.grade))\n",
    "  )\n",
    "}\n",
    "\n",
    "implicit val decodeStudent: Decoder[Student] = new Decoder[Student] {\n",
    "  final def apply(c: HCursor): Decoder.Result[Student] = for {\n",
    "    name  <- c.downField(\"name\").as[String]\n",
    "    grade <- c.downField(\"grade\").as[Int]\n",
    "  } yield {\n",
    "    Student(name, grade)\n",
    "  }\n",
    "}\n",
    "\n",
    "// Testing encoding and decoding\n",
    "val student = Student(\"John\", 90)\n",
    "val encoded = encodeStudent(student)\n",
    "val decoded = decodeStudent.decodeJson(encoded)\n",
    "\n",
    "encoded\n",
    "decoded"
   ]
  },
  {
   "cell_type": "markdown",
   "metadata": {},
   "source": [
    "### Using Contramap"
   ]
  },
  {
   "cell_type": "code",
   "execution_count": null,
   "metadata": {},
   "outputs": [],
   "source": [
    "import io.circe.syntax._\n",
    "import io.circe.Encoder\n",
    "\n",
    "case class Car(make: String, model: String)\n",
    "\n",
    "implicit val encodeCar: Encoder[Car] = Encoder[String].contramap[Car](car => s\"${car.make}-${car.model}\")\n",
    "\n",
    "val myCar = Car(\"Toyota\", \"Corolla\")\n",
    "val encodedCar = myCar.asJson\n",
    "\n",
    "encodedCar"
   ]
  },
  {
   "cell_type": "markdown",
   "metadata": {},
   "source": [
    "Here, we use `contramap` to convert a `Car` instance to a `String` before applying the original `String` encoder. This offers a more functional way of reusing existing encoders. And with this, the beauty of functional programming really comes into view: the existing `String` encoder allows us to skip the boilerplate and piggyback our encoder instance on top of an already defined encoder! This works with *any* encoder that is already defined, not just those provided by Circe."
   ]
  },
  {
   "cell_type": "markdown",
   "metadata": {},
   "source": [
    "### Using Map"
   ]
  },
  {
   "cell_type": "code",
   "execution_count": null,
   "metadata": {},
   "outputs": [],
   "source": [
    "import io.circe.Decoder\n",
    "\n",
    "implicit val decodeCar: Decoder[Car] = Decoder[String].map { str =>\n",
    "  val parts = str.split('-')\n",
    "  Car(parts(0), parts(1))\n",
    "}\n",
    "\n",
    "val decodedCar = decodeCar.decodeJson(encodedCar)\n",
    "decodedCar"
   ]
  },
  {
   "cell_type": "markdown",
   "metadata": {},
   "source": [
    "In this case, we use `map` to construct a `Car` from a `String`. We leverage the existing `String` decoder and then apply a function to convert it to our desired type. This offers a more functional and composable approach to defining decoders."
   ]
  },
  {
   "cell_type": "markdown",
   "metadata": {},
   "source": [
    "These techniques offer more composable and functional ways to define encoders and decoders. They allow for better reuse of existing instances and offer more concise definitions that can be far less taxing on the developer's most limited resource (according to Dijkstra): short term memory"
   ]
  },
  {
   "cell_type": "code",
   "execution_count": null,
   "metadata": {},
   "outputs": [],
   "source": []
  }
 ],
 "metadata": {
  "kernelspec": {
   "display_name": "Scala 2.12",
   "language": "scala",
   "name": "scala212"
  },
  "language_info": {
   "codemirror_mode": "text/x-scala",
   "file_extension": ".sc",
   "mimetype": "text/x-scala",
   "name": "scala",
   "nbconvert_exporter": "script",
   "version": "2.12.18"
  }
 },
 "nbformat": 4,
 "nbformat_minor": 4
}
