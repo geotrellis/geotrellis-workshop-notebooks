{
 "cells": [
  {
   "cell_type": "markdown",
   "id": "ba7e1f0e",
   "metadata": {},
   "source": [
    "# Object, Case Class, and Case Object in Scala\n",
    "\n",
    "Scala offers several specialized constructs like `object`, `case class`, and `case object` for various use-cases. Each of these has unique features and advantages. This lesson aims to differentiate between them and demonstrate their utility."
   ]
  },
  {
   "cell_type": "markdown",
   "id": "8a417d50",
   "metadata": {},
   "source": [
    "## Object\n",
    "\n",
    "An `object` in Scala is a singleton, meaning it represents a single instance of a class. Objects are often used to hold utility methods or constants. Unlike Python's static methods, Scala's `object` can inherit from classes and traits. Because they are guaranteed to be single instances per program, they are a natural place to put caching mechanisms and other constructs that should only appear once."
   ]
  },
  {
   "cell_type": "code",
   "execution_count": null,
   "id": "fe96df3a",
   "metadata": {},
   "outputs": [],
   "source": [
    "object Utils {\n",
    "  def greet(name: String): String = s\"Hello, $name!\"\n",
    "}\n",
    "\n",
    "println(Utils.greet(\"Alice\"))"
   ]
  },
  {
   "cell_type": "markdown",
   "id": "6337979b-cbb7-4cb7-911f-a5a3add7d57c",
   "metadata": {},
   "source": [
    "Objects, as singletons, are a reasonable place to put static methods. And, in fact, that's how Scala handles the concept. Let's take a look:"
   ]
  },
  {
   "cell_type": "code",
   "execution_count": null,
   "id": "62a5a2b7-ee31-4900-b94f-369294989b04",
   "metadata": {},
   "outputs": [],
   "source": [
    "class Person(val name: String, val age: Int) {\n",
    "    var x = 5\n",
    "}\n",
    "\n",
    "object Person {\n",
    "    def createPerson(name: String, age: Int): Person = new Person(name, age)\n",
    "}\n",
    "val p = Person.createPerson(\"Doyle\", 43)\n",
    "println(p.age)"
   ]
  },
  {
   "cell_type": "markdown",
   "id": "a65953ce",
   "metadata": {},
   "source": [
    "## Case Class\n",
    "\n",
    "A `case class` is a special type of class that comes with several features 'out of the box,' such as immutability, pattern matching support, and sensible `toString`, `hashCode`, and `equals` methods."
   ]
  },
  {
   "cell_type": "code",
   "execution_count": null,
   "id": "8dc46677",
   "metadata": {},
   "outputs": [],
   "source": [
    "case class Person(name: String, age: Int)\n",
    "\n",
    "val alice = Person(\"Alice\", 30)\n",
    "val bob = Person(\"Bob\", 40)\n",
    "\n",
    "println(alice)  // Output: Person(Alice, 30)"
   ]
  },
  {
   "cell_type": "markdown",
   "id": "f0706e3e",
   "metadata": {},
   "source": [
    "## Case Object\n",
    "\n",
    "A `case object` is a special kind of `object` that combines features of `case class` and `object`. It's a singleton like an `object`, but it also has the features that come with a `case class`, such as pattern matching."
   ]
  },
  {
   "cell_type": "code",
   "execution_count": null,
   "id": "f9e51c1a",
   "metadata": {},
   "outputs": [],
   "source": [
    "case object Singleton\n",
    "\n",
    "println(Singleton)  // Output: Singleton"
   ]
  },
  {
   "cell_type": "markdown",
   "id": "09971c5a",
   "metadata": {},
   "source": [
    "## Comparisons\n",
    "\n",
    "1. **Singleton**: `object` and `case object` are singletons, `case class` is not.\n",
    "2. **Immutability**: `case class` instances are immutable by default. `object` and `case object` are also effectively immutable as they can't be instantiated multiple times.\n",
    "3. **Utility**: `object` is often used for utility functions, `case class` for modeling data, and `case object` for singleton pattern matching.\n",
    "4. **Inheritance**: `object` can inherit from classes and traits, whereas `case class` and `case object` generally shouldn't (though they can).\n",
    "5. **Pattern Matching**: `case class` and `case object` are optimized for pattern matching, whereas `object` is not.\n",
    "6. **Methods**: All three can have methods, but `case class` often avoids them to remain a pure data structure."
   ]
  },
  {
   "cell_type": "markdown",
   "id": "d30d9de1",
   "metadata": {},
   "source": [
    "## Exercise\n",
    "\n",
    "1. Create a utility `object` with methods inherited from a trait.\n",
    "2. Define a `case class` to model a geometric shape, like a circle or rectangle.\n",
    "3. Create a `case object` for a constant value, such as a specific error state or an `Empty` case.\n",
    "4. Bonus: Experiment with pattern matching using your `case class` and `case object`."
   ]
  },
  {
   "cell_type": "code",
   "execution_count": null,
   "id": "945487d5",
   "metadata": {
    "collapsed": false,
    "jupyter": {
     "outputs_hidden": false
    }
   },
   "outputs": [],
   "source": [
    "// Your code here"
   ]
  }
 ],
 "metadata": {
  "kernelspec": {
   "display_name": "Scala 2.12",
   "language": "scala",
   "name": "scala212"
  },
  "language_info": {
   "codemirror_mode": "text/x-scala",
   "file_extension": ".sc",
   "mimetype": "text/x-scala",
   "name": "scala",
   "nbconvert_exporter": "script",
   "version": "2.12.18"
  }
 },
 "nbformat": 4,
 "nbformat_minor": 5
}
