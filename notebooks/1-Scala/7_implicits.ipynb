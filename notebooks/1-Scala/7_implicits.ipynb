{
 "cells": [
  {
   "cell_type": "markdown",
   "id": "5c95392b",
   "metadata": {},
   "source": [
    "# Understanding Implicits in Scala\n",
    "\n",
    "Implicits are a set of powerful features in Scala that allow for more expressive and clean code. However, they must be used judiciously to avoid making the codebase hard to understand and maintain. This lesson covers the key aspects, including their use in type classes, and warns against common anti-patterns."
   ]
  },
  {
   "cell_type": "markdown",
   "id": "598fc792",
   "metadata": {},
   "source": [
    "## What Are Implicits?\n",
    "\n",
    "Implicits serve as a set of rules for the compiler to automatically provide values or conversions. They can serve as:\n",
    "\n",
    "1. **Implicit Parameters**: Automatically passed to method calls.\n",
    "2. **Implicit Conversions**: Automatic type conversion.\n",
    "3. **Implicit Classes**: Adding new functionality to existing classes.\n",
    "4. **Type Classes**: A pattern for ad-hoc polymorphism."
   ]
  },
  {
   "cell_type": "markdown",
   "id": "57bd3863",
   "metadata": {},
   "source": [
    "### Implicit Parameters\n",
    "\n",
    "Parameters that are automatically passed into functions and methods."
   ]
  },
  {
   "cell_type": "code",
   "execution_count": null,
   "id": "efbcec02",
   "metadata": {},
   "outputs": [],
   "source": [
    "def greet(name: String)(implicit greeting: String): String = s\"$greeting, $name!\"\n",
    "implicit val hi: String = \"Hi\"\n",
    "\n",
    "println(greet(\"Alice\"))  // Output: Hi, Alice!"
   ]
  },
  {
   "cell_type": "markdown",
   "id": "f4329322",
   "metadata": {},
   "source": [
    "### Implicit Conversions\n",
    "\n",
    "Automatically convert one type to another."
   ]
  },
  {
   "cell_type": "code",
   "execution_count": null,
   "id": "551c931e",
   "metadata": {},
   "outputs": [],
   "source": [
    "implicit def intToString(x: Int): String = x.toString\n",
    "val myString: String = 42  // Implicitly converts 42 to \"42\"\n",
    "\n",
    "println(myString)  // Output: 42"
   ]
  },
  {
   "cell_type": "markdown",
   "id": "57bf1653",
   "metadata": {},
   "source": [
    "### Implicit Classes\n",
    "\n",
    "Extend the functionality of existing types."
   ]
  },
  {
   "cell_type": "code",
   "execution_count": null,
   "id": "1f944a5c",
   "metadata": {},
   "outputs": [],
   "source": [
    "implicit class RichString(str: String) {\n",
    "  def shout: String = str.toUpperCase + \"!\"\n",
    "}\n",
    "\n",
    "println(\"hello\".shout)  // Output: HELLO!"
   ]
  },
  {
   "cell_type": "markdown",
   "id": "40df9c4b",
   "metadata": {},
   "source": [
    "### Type Classes\n",
    "\n",
    "Type classes allow you to add new behavior to types without modifying them, often used with implicits."
   ]
  },
  {
   "cell_type": "code",
   "execution_count": 1,
   "id": "d5cc59d0",
   "metadata": {},
   "outputs": [
    {
     "name": "stdout",
     "output_type": "stream",
     "text": [
      "Int: 42\n"
     ]
    },
    {
     "data": {
      "text/plain": [
       "defined \u001b[32mtrait\u001b[39m \u001b[36mShow\u001b[39m\n",
       "\u001b[36mintShow\u001b[39m: \u001b[32mShow\u001b[39m[\u001b[32mInt\u001b[39m] = ammonite.$sess.cell1$Helper$$anonfun$1@920bb7d\n",
       "defined \u001b[32mfunction\u001b[39m \u001b[36mprintShow\u001b[39m"
      ]
     },
     "execution_count": 1,
     "metadata": {},
     "output_type": "execute_result"
    }
   ],
   "source": [
    "trait Show[A] {\n",
    "  def show(a: A): String\n",
    "}\n",
    "\n",
    "implicit val intShow: Show[Int] = (a: Int) => s\"Int: $a\"\n",
    "\n",
    "def printShow[A](a: A)(implicit showInstance: Show[A]): Unit = {\n",
    "  println(showInstance.show(a))\n",
    "}\n",
    "\n",
    "printShow(42)  // Output: Int: 42"
   ]
  },
  {
   "cell_type": "markdown",
   "id": "8874eb80-e7e3-400a-b622-e2d830a4775a",
   "metadata": {},
   "source": [
    "## Extension Methods\n",
    "\n",
    "One common way that implicits are used is to enrich or extend the methods available on a given type. We've already seen typeclasses, but it is sometimes convenient to sugar the types that have typeclass instances defined. Let's take a look to see how that works:"
   ]
  },
  {
   "cell_type": "code",
   "execution_count": 2,
   "id": "f061b114-65d8-4216-b7d5-30f955a3bd61",
   "metadata": {},
   "outputs": [
    {
     "data": {
      "text/plain": [
       "defined \u001b[32mclass\u001b[39m \u001b[36mShowOps\u001b[39m\n",
       "\u001b[36mres2_1\u001b[39m: \u001b[32mString\u001b[39m = \u001b[32m\"Int: 42\"\u001b[39m"
      ]
     },
     "execution_count": 2,
     "metadata": {},
     "output_type": "execute_result"
    }
   ],
   "source": [
    "implicit class ShowOps[A](value: A)(implicit showInstance: Show[A]) {\n",
    "  def show: String = showInstance.show(value)\n",
    "}\n",
    "\n",
    "42.show"
   ]
  },
  {
   "cell_type": "markdown",
   "id": "2479350f",
   "metadata": {},
   "source": [
    "## Warnings and Anti-patterns\n",
    "\n",
    "1. **Overuse**: Implicits can make code harder to understand when overused.\n",
    "2. **Name Clashes**: Multiple implicits of the same type can lead to conflicts.\n",
    "3. **Debugging**: Over-reliance on implicits can make the code hard to debug.\n",
    "4. **Scope**: Always limit the scope of implicits to avoid unintended consequences.\n",
    "\n",
    "As with much in software development, opinions here will differ. GeoTrellis developers have, historically and in general, preferred to limit the use of implicits to type class implementation as much as possible and to store type class instances in companion objects as a convention to ease debugging."
   ]
  },
  {
   "cell_type": "markdown",
   "id": "6a7114fa",
   "metadata": {},
   "source": [
    "## Exercise\n",
    "\n",
    "1. Create an implicit conversion from `Float` to `Double`.\n",
    "2. Define a type class `JsonSerializable` and make an instance for the provided `Person` case class.\n",
    "3. Use implicit parameters to define a method that computes the sum of a List of numbers, where the zero value is provided implicitly."
   ]
  },
  {
   "cell_type": "code",
   "execution_count": null,
   "id": "fabd72f0",
   "metadata": {
    "collapsed": false,
    "jupyter": {
     "outputs_hidden": false
    }
   },
   "outputs": [],
   "source": [
    "// Your code here\n",
    "case class Person(name: String, age: Int)"
   ]
  }
 ],
 "metadata": {
  "kernelspec": {
   "display_name": "Scala 2.12",
   "language": "scala",
   "name": "scala212"
  },
  "language_info": {
   "codemirror_mode": "text/x-scala",
   "file_extension": ".sc",
   "mimetype": "text/x-scala",
   "name": "scala",
   "nbconvert_exporter": "script",
   "version": "2.12.18"
  }
 },
 "nbformat": 4,
 "nbformat_minor": 5
}
