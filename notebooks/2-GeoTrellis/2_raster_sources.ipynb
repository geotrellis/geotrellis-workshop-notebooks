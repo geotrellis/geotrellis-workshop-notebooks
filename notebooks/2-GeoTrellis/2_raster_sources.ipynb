{
 "cells": [
  {
   "cell_type": "markdown",
   "metadata": {},
   "source": [
    "# GeoTrellis: The RasterSource API"
   ]
  },
  {
   "cell_type": "markdown",
   "metadata": {},
   "source": [
    "## Setup"
   ]
  },
  {
   "cell_type": "code",
   "execution_count": null,
   "metadata": {},
   "outputs": [],
   "source": [
    "import $ivy.`org.locationtech.geotrellis::geotrellis-raster:3.6.0`\n",
    "import geotrellis.raster._,\n",
    "       geotrellis.raster.geotiff._,\n",
    "       geotrellis.raster.render._"
   ]
  },
  {
   "cell_type": "markdown",
   "metadata": {},
   "source": [
    "## Reading a TIFF using RasterSource and Writing to PNG\n",
    "\n",
    "Let's take a look at the `RasterSource` API."
   ]
  },
  {
   "cell_type": "code",
   "execution_count": null,
   "metadata": {},
   "outputs": [],
   "source": [
    "val filePath = \"https://download.osgeo.org/geotiff/samples/usgs/o41078a7.tif\"\n",
    "val localPath = \"/home/jovyan/o41078a7.png\"\n",
    "val rasterSource = GeoTiffRasterSource(filePath)"
   ]
  },
  {
   "cell_type": "markdown",
   "metadata": {},
   "source": [
    "Note how quickly the above cell's output was computed. What black magic could explain such performance? Actually, this speed is explained by the fact that RasterSource creation is lazy. These can be created almost for free and stored in arrays by the tens of thousands for almost no memory overhead. This also means that they can be serialized by a distributed framework like Spark and shipped around for processing to appropriate nodes. Let's call `read` and use some pattern matching to destructure the optional return value so that we can render this sample OSGEO tiff. Types annotations are included for documentation purposes."
   ]
  },
  {
   "cell_type": "code",
   "execution_count": null,
   "metadata": {},
   "outputs": [],
   "source": [
    "rasterSource.read() match {\n",
    "    case Some(raster) =>\n",
    "        val mbtile: MultibandTile = raster.tile\n",
    "        val sbtile: Tile = mbtile.band(0)\n",
    "        // This construct is a statistical representation of tiff contents.\n",
    "        // We can use it to build a colormap that maximizes colors in the densest ranges of values\n",
    "        val histogram: Histogram[Int] = sbtile.histogram\n",
    "        // A colormap is essentially a dictionary pointing from values to colors.\n",
    "        val cmap: ColorMap = ColorRamps.Viridis.toColorMap(histogram)\n",
    "        // Beyond the scope of this workshop, the rendering code in GT is *heavily* optimized and is worth checking out to see how mutability can be used strategically.\n",
    "        // https://github.com/locationtech/geotrellis/blob/519d7a7b18f2c4d4b7a16cc059d827bccce20995/raster/src/main/scala/geotrellis/raster/render/png/PngEncoder.scala\n",
    "        val png: Png = sbtile.renderPng(cmap)\n",
    "        // Now, we can write to the filesystem\n",
    "        png.write(localPath)\n",
    "    case None =>\n",
    "        // Exceptions might live here, if you're into that kind of thing\n",
    "        println(\"This shouldn't happen!\")\n",
    "}"
   ]
  },
  {
   "cell_type": "code",
   "execution_count": null,
   "metadata": {},
   "outputs": [],
   "source": [
    "import almond.display._\n",
    "import java.nio.file.{Files, Paths}\n",
    "\n",
    "val path = Paths.get(localPath)\n",
    "Image(Files.readAllBytes(path))"
   ]
  },
  {
   "cell_type": "markdown",
   "metadata": {},
   "source": [
    "## Geospatial Metadata\n",
    "\n",
    "The above tiff is strange. Apparently, an old USGS document that someone saw fit to orthorectify. But that means it has all the geospatial metadata we need to explore some of the other features which make `RasterSource` implementations so convenient. Let's take a look at at some of the metadata for this tiff.\n",
    "\n",
    "Before we do that, it might be useful to mention that there is a construct in GeoTrellis which describes what it means for a class to have raster metadata. Recall that traits are just bundles of abstract properties. They can be stacked and combined with other abstraction mechanisms to represent the idea that the items to which they are applied fulfill a certain contract (whatever else they may do). Here's the [definition of `RasterSource`](https://github.com/locationtech/geotrellis/blob/519d7a7b18f2c4d4b7a16cc059d827bccce20995/raster/src/main/scala/geotrellis/raster/RasterSource.scala#L43), which includes the `RasterMetadata` trait and here's the [trait definition for `RasterMetadata`](https://github.com/locationtech/geotrellis/blob/519d7a7b18f2c4d4b7a16cc059d827bccce20995/raster/src/main/scala/geotrellis/raster/RasterMetadata.scala#L22)."
   ]
  },
  {
   "cell_type": "code",
   "execution_count": null,
   "metadata": {},
   "outputs": [],
   "source": [
    "// We only used the first (0th) band above. How many bands are there, total?\n",
    "println(f\"There is ${rasterSource.bandCount} band\")\n",
    "\n",
    "// What projection does it have?\n",
    "println(f\"The CRS for this tiff is ${rasterSource.crs}\")\n",
    "\n",
    "// What is its 'name' (Strictly speaking, a rastersource's need not be a URL. It could conceivably *generate* data and fulfill the obligations of its abstractions)\n",
    "println(f\"This source's name is ${rasterSource.name}\")\n",
    "\n",
    "// How big is each cell?/What is its ground sampling distance or GSD? (Keep in mind that units will depend on the projection!)\n",
    "// EPSG:32617 is UTM, so the answer will be in meters. We will use %.2f to truncate the double down to a sensible hundredths place.\n",
    "println(f\"This raster's GSD width is ${rasterSource.cellSize.width}%.2fm, its height is ${rasterSource.cellSize.height}%.2fm.\")\n",
    "\n",
    "// The various extent notions found in geotrellis capture, at a minimum, a purported region within a coordinate system\n",
    "val extent = rasterSource.gridExtent.extent\n",
    "println(f\"Minimum x: ${extent.xmin}. Minimum y: ${extent.ymin}\")\n",
    "println(f\"Maximum x: ${extent.xmax}. Maximum y: ${extent.ymax}\")\n",
    "rasterSource.gridExtent\n",
    "// In addition, however, a GridExtent captures information about how data is quantized within said Extent. In other words, info about resolution.\n",
    "// Having already seen the CellSize above, let's instead look up the numbers of cols and rows\n",
    "println(f\"This tiff has ${rasterSource.gridExtent.cols} columns and ${rasterSource.gridExtent.rows} rows\")\n"
   ]
  },
  {
   "cell_type": "markdown",
   "metadata": {},
   "source": [
    "## Raster transformation\n",
    "\n",
    "There are a number of different options when it comes to resizing and reshaping rasters. They correspond to the various values which make up GridExtent. Transforming the coordinate system in terms of which these values are specified, the size of the extent, the number of rows and columns, and the cellsize are all possible, so let's look at how this is done."
   ]
  },
  {
   "cell_type": "markdown",
   "metadata": {},
   "source": [
    "### Reprojecting\n",
    "\n",
    "First, let's reproject this strange raster from its current UTM projection to WGS 1984, which has the EPSG code of 4326."
   ]
  },
  {
   "cell_type": "code",
   "execution_count": null,
   "metadata": {},
   "outputs": [],
   "source": [
    "// First, we'll need to pull in the geotrellis proj4 package\n",
    "import geotrellis.proj4._\n",
    "\n",
    "// Now, we can have geotrellis carry out reprojection for us\n",
    "rasterSource.reproject(LatLng)\n",
    "\n",
    "// Or not. RasterSource transformations tend to avoid mutation and to favor function purity.\n",
    "println(f\"We expected EPSG:4326 (LatLng). Instead, we got: ${rasterSource.crs}\")\n",
    "\n",
    "// We'll actually want to save the output of the reproject method.\n",
    "val latlngRasterSource = rasterSource.reproject(LatLng)\n",
    "println(f\"Now, as expected, the raster should have a EPSG code of 4326: ${latlngRasterSource.crs.epsgCode}\")\n",
    "\n",
    "// Let's see if the extent has changed. LatLng values ought to be quite a bit smaller than those designated in meters\n",
    "println(f\"The old extent is ${rasterSource.gridExtent.extent}\")\n",
    "println(f\"The updated extent is ${latlngRasterSource.gridExtent.extent}\")"
   ]
  },
  {
   "cell_type": "markdown",
   "metadata": {},
   "source": [
    "### Resizing\n",
    "\n",
    "Next, let's see what can be done to change the actual geographic region over which the image is stretched. This is less common than reprojection or resampling, but it is extremely straightforward."
   ]
  },
  {
   "cell_type": "code",
   "execution_count": null,
   "metadata": {},
   "outputs": [],
   "source": [
    "import geotrellis.vector.Extent\n",
    "val targetRegion = {\n",
    "    val cols = latlngRasterSource.gridExtent.cols\n",
    "    val rows = latlngRasterSource.gridExtent.rows\n",
    "    GridExtent(Extent(-80, 40, -77, 44), cols, rows)\n",
    "}\n",
    "val resizedRaster = latlngRasterSource.resampleToRegion(targetRegion)\n",
    "resizedRaster.gridExtent\n",
    "\n",
    "// No good reason to view this image; it ought to render exactly as before"
   ]
  },
  {
   "cell_type": "markdown",
   "metadata": {},
   "source": [
    "### Resampling\n",
    "\n",
    "Resampling to a given `CellSize` looks a lot like resizing. We'll downsample the original raster to the point that artifacts are obvious, just to see how things work"
   ]
  },
  {
   "cell_type": "code",
   "execution_count": null,
   "metadata": {},
   "outputs": [],
   "source": [
    "// For ease of specifying a reasonable cellsize, we'll resample the UTM RasterSource that we started with\n",
    "val targetGrid = {\n",
    "    val cs = CellSize(20, 20)\n",
    "    // The below type argument is an unfortunate consequence of performance enhancements related to JVM boxing rules\n",
    "    // See the notebook in directory 1-Scala pertaining to boxing and spire optimizations for more\n",
    "    GridExtent[Long](rasterSource.gridExtent.extent, cs)\n",
    "}\n",
    "val resampledRasterSource = rasterSource.resampleToGrid(targetGrid)\n",
    "resampledRasterSource.gridExtent"
   ]
  },
  {
   "cell_type": "code",
   "execution_count": null,
   "metadata": {},
   "outputs": [],
   "source": [
    "// Let's render this resampled raster to get a sense of the impacts of dramatically lower resolution\n",
    "val localResampledPath = \"/home/jovyan/o41078a7_resample.png\"\n",
    "\n",
    "resampledRasterSource.read() match {\n",
    "    case Some(raster) =>\n",
    "        val mbtile: MultibandTile = raster.tile\n",
    "        val sbtile: Tile = mbtile.band(0)\n",
    "        val histogram: Histogram[Int] = sbtile.histogram\n",
    "        val cmap: ColorMap = ColorRamps.Viridis.toColorMap(histogram)\n",
    "        val png: Png = sbtile.renderPng(cmap)\n",
    "        png.write(localResampledPath)\n",
    "    case None =>\n",
    "        println(\"This shouldn't happen!\")\n",
    "}\n",
    "val resampledPath = Paths.get(localResampledPath)\n",
    "Image(Files.readAllBytes(resampledPath))"
   ]
  },
  {
   "cell_type": "markdown",
   "metadata": {},
   "source": [
    "## Reading Segments\n",
    "\n",
    "We've see the `read` method which takes no parameters, above. Now, let's look to one of the available overload methods of `read` which allows us to realize only a portion of a raster. If using a tiled tiff structure (e.g. with any COG), reads specifying a subset of the total tiff will intelligently grab only the tiles that have overlap with that subset of the total tiff."
   ]
  },
  {
   "cell_type": "code",
   "execution_count": null,
   "metadata": {},
   "outputs": [],
   "source": [
    "val localResampledSubsetPath = \"/home/jovyan/o41078a7_resample_subset.png\"\n",
    "\n",
    "// Recall that the resampledRasterSource has 607 columns and 823 rows.\n",
    "// We can select specific cols/rows for reading.\n",
    "// Again, note the unfortunate type parameter tradeoff incurred due to optimization\n",
    "val gb = GridBounds[Long](colMin = 100, rowMin = 100, colMax = 400, rowMax = 400)\n",
    "resampledRasterSource.read(gb) match {\n",
    "    case Some(raster) =>\n",
    "        val mbtile: MultibandTile = raster.tile\n",
    "        val sbtile: Tile = mbtile.band(0)\n",
    "        val histogram: Histogram[Int] = sbtile.histogram\n",
    "        val cmap: ColorMap = ColorRamps.Viridis.toColorMap(histogram)\n",
    "        val png: Png = sbtile.renderPng(cmap)\n",
    "        png.write(localResampledSubsetPath)\n",
    "    case None =>\n",
    "        println(\"This shouldn't happen!\")\n",
    "}\n",
    "val resampledSubsetPath = Paths.get(localResampledSubsetPath)\n",
    "Image(Files.readAllBytes(resampledSubsetPath))"
   ]
  },
  {
   "cell_type": "markdown",
   "metadata": {},
   "source": [
    "Other mechanisms for reading subsets exist. To get a better idea of what's possible, [check out](https://github.com/locationtech/geotrellis/blob/519d7a7b18f2c4d4b7a16cc059d827bccce20995/raster/src/main/scala/geotrellis/raster/RasterSource.scala#L43) the `Extent` consuming `read` method and the `read` method that only reads the selected bands. Can you tell what `readExtents` does? Remember to use the type signature if you're not sure."
   ]
  },
  {
   "cell_type": "code",
   "execution_count": null,
   "metadata": {},
   "outputs": [],
   "source": []
  }
 ],
 "metadata": {
  "kernelspec": {
   "display_name": "Scala 2.12",
   "language": "scala",
   "name": "scala212"
  },
  "language_info": {
   "codemirror_mode": "text/x-scala",
   "file_extension": ".sc",
   "mimetype": "text/x-scala",
   "name": "scala",
   "nbconvert_exporter": "script",
   "version": "2.12.18"
  }
 },
 "nbformat": 4,
 "nbformat_minor": 4
}
