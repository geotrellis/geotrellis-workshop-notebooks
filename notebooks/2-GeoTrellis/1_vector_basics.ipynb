{
 "cells": [
  {
   "cell_type": "markdown",
   "metadata": {},
   "source": [
    "# GeoTrellis: Vector Basics and Serialization"
   ]
  },
  {
   "cell_type": "markdown",
   "metadata": {},
   "source": [
    "## Setup"
   ]
  },
  {
   "cell_type": "code",
   "execution_count": 8,
   "metadata": {},
   "outputs": [
    {
     "data": {
      "text/plain": [
       "\u001b[32mimport \u001b[39m\u001b[36m$ivy.$\u001b[39m\n",
       "\u001b[32mimport \u001b[39m\u001b[36morg.locationtech.jts.geom\u001b[39m\n",
       "\u001b[32mimport \u001b[39m\u001b[36mgeotrellis.vector._\u001b[39m\n",
       "\u001b[32mimport \u001b[39m\u001b[36mgeotrellis.vector.io._\u001b[39m"
      ]
     },
     "execution_count": 8,
     "metadata": {},
     "output_type": "execute_result"
    }
   ],
   "source": [
    "import $ivy.`org.locationtech.geotrellis::geotrellis-vector:3.6.0`\n",
    "import org.locationtech.jts.geom\n",
    "import geotrellis.vector._\n",
    "import geotrellis.vector.io._"
   ]
  },
  {
   "cell_type": "markdown",
   "metadata": {},
   "source": [
    "## Introduction to GeoTrellis Vector Support"
   ]
  },
  {
   "cell_type": "markdown",
   "metadata": {},
   "source": [
    "Java Topology Suite (JTS) provides the core geometry and spatial operation features that GeoTrellis utilizes for its vector data processing. JTS types like `Point`, `LineString`, and `Polygon` are mirrored in GeoTrellis."
   ]
  },
  {
   "cell_type": "markdown",
   "metadata": {},
   "source": [
    "## Creating Vector Geometries"
   ]
  },
  {
   "cell_type": "code",
   "execution_count": 9,
   "metadata": {},
   "outputs": [
    {
     "data": {
      "text/plain": [
       "\u001b[36mpoint\u001b[39m: \u001b[32mPoint\u001b[39m = POINT (1 1)\n",
       "\u001b[36mline\u001b[39m: \u001b[32mLineString\u001b[39m = LINESTRING (1 1, 1 2, 2 2, 2 1, 1 1)\n",
       "\u001b[36mpolygon\u001b[39m: \u001b[32mPolygon\u001b[39m = POLYGON ((0 0, 0 1, 1 1, 1 0, 0 0))\n",
       "\u001b[36mres9_3\u001b[39m: (\u001b[32mPoint\u001b[39m, \u001b[32mLineString\u001b[39m, \u001b[32mPolygon\u001b[39m) = (\n",
       "  POINT (1 1),\n",
       "  LINESTRING (1 1, 1 2, 2 2, 2 1, 1 1),\n",
       "  POLYGON ((0 0, 0 1, 1 1, 1 0, 0 0))\n",
       ")"
      ]
     },
     "execution_count": 9,
     "metadata": {},
     "output_type": "execute_result"
    }
   ],
   "source": [
    "val point: geom.Point = Point(1, 1)\n",
    "val line: geom.LineString = LineString((1.0,1.0), (1.0,2.0), (2.0,2.0), (2.0,1.0), (1.0,1.0))\n",
    "val polygon: geom.Polygon = Polygon((0.0,0.0), (0.0,1.0), (1.0,1.0), (1.0,0.0), (0.0,0.0))\n",
    "\n",
    "(point, line, polygon)"
   ]
  },
  {
   "cell_type": "markdown",
   "metadata": {},
   "source": [
    "Here we've created basic vector geometries: a point, a line, and a polygon. Notice that the polygon is closed; it starts and ends at the same coordinate."
   ]
  },
  {
   "cell_type": "markdown",
   "metadata": {},
   "source": [
    "## Spatial Operations"
   ]
  },
  {
   "cell_type": "code",
   "execution_count": 10,
   "metadata": {},
   "outputs": [
    {
     "data": {
      "text/plain": [
       "\u001b[36manotherPoint\u001b[39m: \u001b[32mPoint\u001b[39m = POINT (1 1)\n",
       "\u001b[36misWithin\u001b[39m: \u001b[32mBoolean\u001b[39m = \u001b[32mfalse\u001b[39m\n",
       "\u001b[36misSame\u001b[39m: \u001b[32mBoolean\u001b[39m = \u001b[32mtrue\u001b[39m\n",
       "\u001b[36mres10_3\u001b[39m: (\u001b[32mBoolean\u001b[39m, \u001b[32mBoolean\u001b[39m) = (\u001b[32mfalse\u001b[39m, \u001b[32mtrue\u001b[39m)"
      ]
     },
     "execution_count": 10,
     "metadata": {},
     "output_type": "execute_result"
    }
   ],
   "source": [
    "val anotherPoint = Point(1, 1)\n",
    "val isWithin = point.within(polygon)\n",
    "val isSame = point == anotherPoint\n",
    "\n",
    "(isWithin, isSame)"
   ]
  },
  {
   "cell_type": "markdown",
   "metadata": {},
   "source": [
    "Here we performed some basic spatial operations. We checked if a point is within a polygon and if two points are the same."
   ]
  },
  {
   "cell_type": "markdown",
   "metadata": {},
   "source": [
    "## Buffering and Union Operations"
   ]
  },
  {
   "cell_type": "code",
   "execution_count": 11,
   "metadata": {},
   "outputs": [
    {
     "data": {
      "text/plain": [
       "\u001b[36mbufferedPoint\u001b[39m: \u001b[32mGeometry\u001b[39m = POLYGON ((1.5 1, 1.4903926402016152 0.9024548389919359, 1.4619397662556435 0.8086582838174551, 1.4157348061512727 0.7222148834901989, 1.3535533905932737 0.6464466094067263, 1.277785116509801 0.5842651938487273, 1.1913417161825448 0.5380602337443566, 1.0975451610080642 0.5096073597983848, 1 0.5, 0.9024548389919359 0.5096073597983848, 0.8086582838174552 0.5380602337443566, 0.722214883490199 0.5842651938487273, 0.6464466094067263 0.6464466094067263, 0.5842651938487273 0.7222148834901989, 0.5380602337443565 0.8086582838174553, 0.5096073597983848 0.9024548389919361, 0.5 1.0000000000000004, 0.5096073597983849 1.0975451610080647, 0.5380602337443569 1.1913417161825455, 0.5842651938487278 1.2777851165098018, 0.6464466094067268 1.3535533905932744, 0.7222148834901996 1.4157348061512731, 0.8086582838174561 1.4619397662556437, 0.902454838991937 1.4903926402016154, 1.0000000000000013 1.5, 1.0975451610080655 1.490392640201615, 1.1913417161825461 1.4619397662556428, 1.2777851165098024 1.4157348061512718, 1.3535533905932748 1.3535533905932726, 1.4157348061512736 1.2777851165097998, 1.4619397662556441 1.191341716182543, 1.4903926402016157 1.0975451610080622, 1.5 1))\n",
       "\u001b[36munionPolygon\u001b[39m: \u001b[32mGeometry\u001b[39m = POLYGON ((0 0, 0 1, 0.5 1, 0.5 1.0000000000000004, 0.5096073597983849 1.0975451610080647, 0.5380602337443569 1.1913417161825455, 0.5842651938487278 1.2777851165098018, 0.6464466094067268 1.3535533905932744, 0.7222148834901996 1.4157348061512731, 0.8086582838174561 1.4619397662556437, 0.902454838991937 1.4903926402016154, 1.0000000000000013 1.5, 1.0975451610080655 1.490392640201615, 1.1913417161825461 1.4619397662556428, 1.2777851165098024 1.4157348061512718, 1.3535533905932748 1.3535533905932726, 1.4157348061512736 1.2777851165097998, 1.4619397662556441 1.191341716182543, 1.4903926402016157 1.0975451610080622, 1.5 1, 1.4903926402016152 0.9024548389919359, 1.4619397662556435 0.8086582838174551, 1.4157348061512727 0.7222148834901989, 1.3535533905932737 0.6464466094067263, 1.277785116509801 0.5842651938487273, 1.1913417161825448 0.5380602337443566, 1.0975451610080642 0.5096073597983848, 1 0.5, 1 0, 0 0))\n",
       "\u001b[36mres11_2\u001b[39m: (\u001b[32mGeometry\u001b[39m, \u001b[32mGeometry\u001b[39m) = (\n",
       "  POLYGON ((1.5 1, 1.4903926402016152 0.9024548389919359, 1.4619397662556435 0.8086582838174551, 1.4157348061512727 0.7222148834901989, 1.3535533905932737 0.6464466094067263, 1.277785116509801 0.5842651938487273, 1.1913417161825448 0.5380602337443566, 1.0975451610080642 0.5096073597983848, 1 0.5, 0.9024548389919359 0.5096073597983848, 0.8086582838174552 0.5380602337443566, 0.722214883490199 0.5842651938487273, 0.6464466094067263 0.6464466094067263, 0.5842651938487273 0.7222148834901989, 0.5380602337443565 0.8086582838174553, 0.5096073597983848 0.9024548389919361, 0.5 1.0000000000000004, 0.5096073597983849 1.0975451610080647, 0.5380602337443569 1.1913417161825455, 0.5842651938487278 1.2777851165098018, 0.6464466094067268 1.3535533905932744, 0.7222148834901996 1.4157348061512731, 0.8086582838174561 1.4619397662556437, 0.902454838991937 1.4903926402016154, 1.0000000000000013 1.5, 1.0975451610080655 1.490392640201615, 1.1913417161825461 1.4619397662556428, 1.2777851165098024 1.4157348061512718, 1.3535533905932748 1.3535533905932726, 1.4157348061512736 1.2777851165097998, 1.4619397662556441 1.191341716182543, 1.4903926402016157 1.0975451610080622, 1.5 1)),\n",
       "  POLYGON ((0 0, 0 1, 0.5 1, 0.5 1.0000000000000004, 0.5096073597983849 1.0975451610080647, 0.5380602337443569 1.1913417161825455, 0.5842651938487278 1.2777851165098018, 0.6464466094067268 1.3535533905932744, 0.7222148834901996 1.4157348061512731, 0.8086582838174561 1.4619397662556437, 0.902454838991937 1.4903926402016154, 1.0000000000000013 1.5, 1.0975451610080655 1.490392640201615, 1.1913417161825461 1.4619397662556428, 1.2777851165098024 1.4157348061512718, 1.3535533905932748 1.3535533905932726, 1.4157348061512736 1.2777851165097998, 1.4619397662556441 1.191341716182543, 1.4903926402016157 1.0975451610080622, 1.5 1, 1.4903926402016152 0.9024548389919359, 1.4619397662556435 0.8086582838174551, 1.4157348061512727 0.7222148834901989, 1.3535533905932737 0.6464466094067263, 1.277785116509801 0.5842651938487273, 1.1913417161825448 0.5380602337443566, 1.0975451610080642 0.5096073597983848, 1 0.5, 1 0, 0 0))\n",
       ")"
      ]
     },
     "execution_count": 11,
     "metadata": {},
     "output_type": "execute_result"
    }
   ],
   "source": [
    "val bufferedPoint = point.buffer(0.5)\n",
    "val unionPolygon = polygon.union(bufferedPoint)\n",
    "\n",
    "(bufferedPoint, unionPolygon)"
   ]
  },
  {
   "cell_type": "markdown",
   "metadata": {},
   "source": [
    "Here, we performed a buffer operation on a point and then created a union of a polygon and the buffered point."
   ]
  },
  {
   "cell_type": "markdown",
   "metadata": {},
   "source": [
    "## Serialization to WKB, WKT, and GeoJSON"
   ]
  },
  {
   "cell_type": "code",
   "execution_count": 12,
   "metadata": {},
   "outputs": [
    {
     "data": {
      "text/plain": [
       "\u001b[36mwkb\u001b[39m: \u001b[32mArray\u001b[39m[\u001b[32mByte\u001b[39m] = \u001b[33mArray\u001b[39m(\n",
       "  \u001b[32m0\u001b[39m,\n",
       "  \u001b[32m32\u001b[39m,\n",
       "  \u001b[32m0\u001b[39m,\n",
       "  \u001b[32m0\u001b[39m,\n",
       "  \u001b[32m1\u001b[39m,\n",
       "  \u001b[32m0\u001b[39m,\n",
       "  \u001b[32m0\u001b[39m,\n",
       "  \u001b[32m16\u001b[39m,\n",
       "  \u001b[32m-26\u001b[39m,\n",
       "  \u001b[32m63\u001b[39m,\n",
       "  \u001b[32m-16\u001b[39m,\n",
       "  \u001b[32m0\u001b[39m,\n",
       "  \u001b[32m0\u001b[39m,\n",
       "  \u001b[32m0\u001b[39m,\n",
       "  \u001b[32m0\u001b[39m,\n",
       "  \u001b[32m0\u001b[39m,\n",
       "  \u001b[32m0\u001b[39m,\n",
       "  \u001b[32m63\u001b[39m,\n",
       "  \u001b[32m-16\u001b[39m,\n",
       "  \u001b[32m0\u001b[39m,\n",
       "  \u001b[32m0\u001b[39m,\n",
       "  \u001b[32m0\u001b[39m,\n",
       "  \u001b[32m0\u001b[39m,\n",
       "  \u001b[32m0\u001b[39m,\n",
       "  \u001b[32m0\u001b[39m\n",
       ")\n",
       "\u001b[36mwkt\u001b[39m: \u001b[32mString\u001b[39m = \u001b[32m\"POINT (1 1)\"\u001b[39m\n",
       "\u001b[36mgeoJson\u001b[39m: \u001b[32mString\u001b[39m = \u001b[32m\"{\\\"type\\\":\\\"Point\\\",\\\"coordinates\\\":[1.0,1.0]}\"\u001b[39m\n",
       "\u001b[36mres12_3\u001b[39m: (\u001b[32mArray\u001b[39m[\u001b[32mByte\u001b[39m], \u001b[32mString\u001b[39m, \u001b[32mString\u001b[39m) = (\n",
       "  \u001b[33mArray\u001b[39m(\n",
       "    \u001b[32m0\u001b[39m,\n",
       "    \u001b[32m32\u001b[39m,\n",
       "    \u001b[32m0\u001b[39m,\n",
       "    \u001b[32m0\u001b[39m,\n",
       "    \u001b[32m1\u001b[39m,\n",
       "    \u001b[32m0\u001b[39m,\n",
       "    \u001b[32m0\u001b[39m,\n",
       "    \u001b[32m16\u001b[39m,\n",
       "    \u001b[32m-26\u001b[39m,\n",
       "    \u001b[32m63\u001b[39m,\n",
       "    \u001b[32m-16\u001b[39m,\n",
       "    \u001b[32m0\u001b[39m,\n",
       "    \u001b[32m0\u001b[39m,\n",
       "    \u001b[32m0\u001b[39m,\n",
       "    \u001b[32m0\u001b[39m,\n",
       "    \u001b[32m0\u001b[39m,\n",
       "    \u001b[32m0\u001b[39m,\n",
       "    \u001b[32m63\u001b[39m,\n",
       "    \u001b[32m-16\u001b[39m,\n",
       "    \u001b[32m0\u001b[39m,\n",
       "    \u001b[32m0\u001b[39m,\n",
       "    \u001b[32m0\u001b[39m,\n",
       "    \u001b[32m0\u001b[39m,\n",
       "    \u001b[32m0\u001b[39m,\n",
       "    \u001b[32m0\u001b[39m\n",
       "  ),\n",
       "  \u001b[32m\"POINT (1 1)\"\u001b[39m,\n",
       "  \u001b[32m\"{\\\"type\\\":\\\"Point\\\",\\\"coordinates\\\":[1.0,1.0]}\"\u001b[39m\n",
       ")"
      ]
     },
     "execution_count": 12,
     "metadata": {},
     "output_type": "execute_result"
    }
   ],
   "source": [
    "val wkb: Array[Byte] = point.toWKB(4326)\n",
    "val wkt: String = point.toWKT\n",
    "val geoJson: String = point.toGeoJson\n",
    "\n",
    "(wkb, wkt, geoJson)"
   ]
  },
  {
   "cell_type": "markdown",
   "metadata": {},
   "source": [
    "We serialized the point geometry into Well-Known Binary (WKB), Well-Known Text (WKT), and GeoJSON formats. These formats allow for easy interchange and storage of spatial data."
   ]
  },
  {
   "cell_type": "code",
   "execution_count": 2,
   "metadata": {},
   "outputs": [
    {
     "name": "stderr",
     "output_type": "stream",
     "text": [
      "Downloading https://repo1.maven.org/maven2/com/lihaoyi/ujson_2.12/0.9.10/ujson_2.12-0.9.10.pom\n",
      "Downloaded https://repo1.maven.org/maven2/com/lihaoyi/ujson_2.12/0.9.10/ujson_2.12-0.9.10.pom\n",
      "Downloading https://repo1.maven.org/maven2/com/lihaoyi/ujson_2.12/0.9.10/ujson_2.12-0.9.10.pom.sha1\n",
      "Downloaded https://repo1.maven.org/maven2/com/lihaoyi/ujson_2.12/0.9.10/ujson_2.12-0.9.10.pom.sha1\n",
      "Downloading https://jitpack.io/com/lihaoyi/ujson_2.12/0.9.10/ujson_2.12-0.9.10.pom\n",
      "Downloaded https://jitpack.io/com/lihaoyi/ujson_2.12/0.9.10/ujson_2.12-0.9.10.pom\n",
      "Downloading https://jitpack.io/com/lihaoyi/ujson_2.12/0.9.10/ujson_2.12-0.9.10.pom.sha1\n",
      "Downloaded https://jitpack.io/com/lihaoyi/ujson_2.12/0.9.10/ujson_2.12-0.9.10.pom.sha1\n",
      "Failed to resolve ivy dependencies:Error downloading com.lihaoyi:ujson_2.12:0.9.10\n",
      "  not found: /home/jovyan/.ivy2/local/com.lihaoyi/ujson_2.12/0.9.10/ivys/ivy.xml\n",
      "  not found: https://repo1.maven.org/maven2/com/lihaoyi/ujson_2.12/0.9.10/ujson_2.12-0.9.10.pom\n",
      "  not found: https://jitpack.io/com/lihaoyi/ujson_2.12/0.9.10/ujson_2.12-0.9.10.pom"
     ]
    }
   ],
   "source": [
    "import $ivy.`com.lihaoyi::ujson:0.9.10`  // replace with the version you're using\n",
    "import ujson._"
   ]
  },
  {
   "cell_type": "code",
   "execution_count": 2,
   "metadata": {},
   "outputs": [
    {
     "name": "stderr",
     "output_type": "stream",
     "text": [
      "cell3.sc:1: not found: value point\n",
      "val res3 = point.toGeoJson\n",
      "           ^\n",
      "Compilation Failed"
     ]
    }
   ],
   "source": [
    "point.toGeoJson"
   ]
  },
  {
   "cell_type": "code",
   "execution_count": null,
   "metadata": {},
   "outputs": [],
   "source": []
  }
 ],
 "metadata": {
  "kernelspec": {
   "display_name": "Scala 2.12",
   "language": "scala",
   "name": "scala212"
  },
  "language_info": {
   "codemirror_mode": "text/x-scala",
   "file_extension": ".sc",
   "mimetype": "text/x-scala",
   "name": "scala",
   "nbconvert_exporter": "script",
   "version": "2.12.18"
  }
 },
 "nbformat": 4,
 "nbformat_minor": 4
}
