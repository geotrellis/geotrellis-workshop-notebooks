{
 "cells": [
  {
   "cell_type": "markdown",
   "metadata": {},
   "source": [
    "# GeoTrellis: Vector Basics and Serialization"
   ]
  },
  {
   "cell_type": "markdown",
   "metadata": {},
   "source": [
    "## Setup"
   ]
  },
  {
   "cell_type": "code",
   "execution_count": null,
   "metadata": {},
   "outputs": [],
   "source": [
    "import $ivy.`org.locationtech.geotrellis::geotrellis-vector:3.6.0`\n",
    "import org.locationtech.jts.geom\n",
    "import geotrellis.vector._\n",
    "import geotrellis.vector.io._"
   ]
  },
  {
   "cell_type": "markdown",
   "metadata": {},
   "source": [
    "## Introduction to GeoTrellis Vector Support"
   ]
  },
  {
   "cell_type": "markdown",
   "metadata": {},
   "source": [
    "Java Topology Suite (JTS) provides the core geometry and spatial operation features that GeoTrellis utilizes for its vector data processing. JTS types like `Point`, `LineString`, and `Polygon` are mirrored in GeoTrellis."
   ]
  },
  {
   "cell_type": "markdown",
   "metadata": {},
   "source": [
    "## Creating Vector Geometries"
   ]
  },
  {
   "cell_type": "code",
   "execution_count": null,
   "metadata": {},
   "outputs": [],
   "source": [
    "val point: geom.Point = Point(1, 1)\n",
    "val line: geom.LineString = LineString((1.0,1.0), (1.0,2.0), (2.0,2.0), (2.0,1.0), (1.0,1.0))\n",
    "val polygon: geom.Polygon = Polygon((0.0,0.0), (0.0,1.0), (1.0,1.0), (1.0,0.0), (0.0,0.0))\n",
    "\n",
    "(point, line, polygon)"
   ]
  },
  {
   "cell_type": "markdown",
   "metadata": {},
   "source": [
    "Here we've created basic vector geometries: a point, a line, and a polygon. Notice that the polygon is closed; it starts and ends at the same coordinate."
   ]
  },
  {
   "cell_type": "markdown",
   "metadata": {},
   "source": [
    "## Spatial Operations"
   ]
  },
  {
   "cell_type": "code",
   "execution_count": null,
   "metadata": {},
   "outputs": [],
   "source": [
    "val anotherPoint = Point(1, 1)\n",
    "val isWithin = point.within(polygon)\n",
    "val isSame = point == anotherPoint\n",
    "\n",
    "(isWithin, isSame)"
   ]
  },
  {
   "cell_type": "markdown",
   "metadata": {},
   "source": [
    "Here we performed some basic spatial operations. We checked if a point is within a polygon and if two points are the same."
   ]
  },
  {
   "cell_type": "markdown",
   "metadata": {},
   "source": [
    "## Buffering and Union Operations"
   ]
  },
  {
   "cell_type": "code",
   "execution_count": null,
   "metadata": {},
   "outputs": [],
   "source": [
    "val bufferedPoint = point.buffer(0.5)\n",
    "val unionPolygon = polygon.union(bufferedPoint)\n",
    "\n",
    "(bufferedPoint, unionPolygon)"
   ]
  },
  {
   "cell_type": "markdown",
   "metadata": {},
   "source": [
    "Here, we performed a buffer operation on a point and then created a union of a polygon and the buffered point."
   ]
  },
  {
   "cell_type": "markdown",
   "metadata": {},
   "source": [
    "## Serialization to WKB, WKT, and GeoJSON"
   ]
  },
  {
   "cell_type": "code",
   "execution_count": null,
   "metadata": {},
   "outputs": [],
   "source": [
    "val wkb: Array[Byte] = point.toWKB(4326)\n",
    "val wkt: String = point.toWKT\n",
    "val geoJson: String = point.toGeoJson\n",
    "\n",
    "(wkb, wkt, geoJson)"
   ]
  },
  {
   "cell_type": "markdown",
   "metadata": {},
   "source": [
    "We serialized the point geometry into Well-Known Binary (WKB), Well-Known Text (WKT), and GeoJSON formats. These formats allow for easy interchange and storage of spatial data."
   ]
  }
 ],
 "metadata": {
  "kernelspec": {
   "display_name": "Scala 2.12",
   "language": "scala",
   "name": "scala212"
  },
  "language_info": {
   "codemirror_mode": "text/x-scala",
   "file_extension": ".sc",
   "mimetype": "text/x-scala",
   "name": "scala",
   "nbconvert_exporter": "script",
   "version": "2.12.18"
  }
 },
 "nbformat": 4,
 "nbformat_minor": 4
}
