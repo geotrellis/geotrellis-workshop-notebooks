{
 "cells": [
  {
   "cell_type": "markdown",
   "id": "7aec0ad3",
   "metadata": {},
   "source": [
    "# Algebraic Data Types and Pattern Matching in Scala\n",
    "\n",
    "Algebraic Data Types (ADTs) are a fundamental concept in functional programming languages like Scala. Combined with pattern matching, ADTs allow you to create complex yet maintainable code. This lesson explores how to define and use ADTs and dives into the power of pattern matching."
   ]
  },
  {
   "cell_type": "markdown",
   "id": "7c06f60c",
   "metadata": {},
   "source": [
    "## Algebraic Data Types (ADTs)\n",
    "\n",
    "An Algebraic Data Type is a type formed by composing other types. Scala mainly has two forms of ADTs: `Product types` and `Sum types`."
   ]
  },
  {
   "cell_type": "markdown",
   "id": "4e933412",
   "metadata": {},
   "source": [
    "### Product Types\n",
    "\n",
    "A Product type combines other types. A `case class` is the simplest form of a product type."
   ]
  },
  {
   "cell_type": "code",
   "execution_count": null,
   "id": "c4af3e86",
   "metadata": {},
   "outputs": [],
   "source": [
    "case class Circle(radius: Double)\n",
    "case class Rectangle(width: Double, height: Double)"
   ]
  },
  {
   "cell_type": "markdown",
   "id": "b64b15b4",
   "metadata": {},
   "source": [
    "### Sum Types\n",
    "\n",
    "A Sum type represents a choice between types. In Scala, we often use `sealed trait` combined with `case class` or `case object` to define sum types."
   ]
  },
  {
   "cell_type": "code",
   "execution_count": null,
   "id": "1b4b10b7",
   "metadata": {},
   "outputs": [],
   "source": [
    "sealed trait Shape\n",
    "case class Circle(radius: Double) extends Shape\n",
    "case class Rectangle(width: Double, height: Double) extends Shape"
   ]
  },
  {
   "cell_type": "markdown",
   "id": "5e5f6b52",
   "metadata": {},
   "source": [
    "## Pattern Matching\n",
    "\n",
    "Pattern matching is a mechanism for checking a value against a pattern. It's a more powerful version of other constructs you may be familiar with, like `switch` statements in some other languages."
   ]
  },
  {
   "cell_type": "code",
   "execution_count": null,
   "id": "b65009c2",
   "metadata": {},
   "outputs": [],
   "source": [
    "def describeShape(s: Shape): String = s match {\n",
    "  case Circle(radius) => s\"A circle with radius $radius\"\n",
    "  case Rectangle(width, height) => s\"A rectangle with width $width and height $height\"\n",
    "}"
   ]
  },
  {
   "cell_type": "markdown",
   "id": "b6661689",
   "metadata": {},
   "source": [
    "## Power of Pattern Matching\n",
    "\n",
    "1. **Expressiveness**: Quickly destructure complex types and access their members.\n",
    "2. **Safety**: The compiler warns you about missing or redundant patterns.\n",
    "3. **Readability**: Makes the code more intuitive and easier to understand.\n",
    "4. **Functional Paradigm**: Allows for cleaner, more declarative code, especially when combined with ADTs."
   ]
  },
  {
   "cell_type": "markdown",
   "id": "739df16b",
   "metadata": {},
   "source": [
    "## Exercise\n",
    "\n",
    "1. Define an ADT to represent a `TrafficLight` which can be Red, Yellow, or Green.\n",
    "2. Use pattern matching to define a function `canGo` that takes a `TrafficLight` and returns whether or not one can go.\n",
    "3. Bonus: Extend the `Shape` ADT to include `Triangle` and update the `describeShape` function."
   ]
  },
  {
   "cell_type": "code",
   "execution_count": null,
   "id": "1292d1a7",
   "metadata": {
    "collapsed": false,
    "jupyter": {
     "outputs_hidden": false
    }
   },
   "outputs": [],
   "source": [
    "// Your code here"
   ]
  }
 ],
 "metadata": {
  "kernelspec": {
   "display_name": "Python 3 (ipykernel)",
   "language": "python",
   "name": "python3"
  },
  "language_info": {
   "codemirror_mode": {
    "name": "ipython",
    "version": 3
   },
   "file_extension": ".py",
   "mimetype": "text/x-python",
   "name": "python",
   "nbconvert_exporter": "python",
   "pygments_lexer": "ipython3",
   "version": "3.11.4"
  }
 },
 "nbformat": 4,
 "nbformat_minor": 5
}
