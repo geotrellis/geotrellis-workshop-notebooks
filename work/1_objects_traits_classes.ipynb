{
 "cells": [
  {
   "cell_type": "markdown",
   "id": "d5991d38-ab5a-41a0-8943-5229b8387c30",
   "metadata": {},
   "source": [
    "# Trait vs Object vs (Abstract) Class in Scala\n",
    "\n",
    "Welcome to this notebook! In this tutorial, you'll learn about three fundamental concepts in Scala: Traits, Objects, and Classes (including Abstract Classes). Understanding these building blocks is crucial for becoming proficient in Scala and will make working with frameworks like Spark and GeoTrellis easier.\n",
    "\n",
    "## Table of Contents\n",
    "1. [Class: A Blueprint for Objects](#class)\n",
    "2. [Object: The Singleton Instance](#object)\n",
    "3. [Trait: Reusable Code Fragments](#trait)\n",
    "4. [Abstract Class: A Partial Implementation](#abstract-class)\n",
    "5. [Comparison: When to Use What?](#comparison)\n"
   ]
  },
  {
   "cell_type": "markdown",
   "id": "2897d669-1ec9-4009-a2c2-8807a1f9d2ae",
   "metadata": {},
   "source": [
    "<a id=\"class\"></a>\n",
    "## Class: A Blueprint for Objects\n",
    "\n",
    "### What is a Class?\n",
    "A class is a blueprint for creating objects. It defines the fields (variables) and methods (functions) that will be common to all objects of that class.\n",
    "\n",
    "### Example: Creating a Class\n",
    "\n",
    "Let's create a simple class named `Person`. This class will have two fields: `name` and `age`, and one method called `introduce`. We can then create an instance of it and call the `introduce` method we've defined\n"
   ]
  },
  {
   "cell_type": "code",
   "execution_count": 1,
   "id": "0ddb9592-bf9d-4d60-b442-fcad44ee2b8b",
   "metadata": {},
   "outputs": [
    {
     "data": {
      "text/plain": [
       "defined \u001b[32mclass\u001b[39m \u001b[36mPerson\u001b[39m"
      ]
     },
     "execution_count": 1,
     "metadata": {},
     "output_type": "execute_result"
    }
   ],
   "source": [
    "class Person(val name: String, val age: Int) {\n",
    "  def introduce(): String = {\n",
    "    s\"Hello, my name is $name and I am $age years old.\"\n",
    "  }\n",
    "}\n",
    "val alice = new Person(\"Alice\", 30)\n",
    "println(alice.introduce())"
   ]
  },
  {
   "cell_type": "markdown",
   "id": "61254a9a-219b-4ffd-b90e-0bfa46dd078f",
   "metadata": {},
   "source": [
    "<a id=\"object\"></a>\n",
    "## Object: The Singleton Instance\n",
    "\n",
    "### What is an Object?\n",
    "In Scala, an `object` is a singleton, meaning there can only be one instance of it in the program. You often use objects for utility functions and constants.\n",
    "\n",
    "### Example: Creating an Object\n",
    "\n",
    "Let's create an object named `MathUtil` that has a method to calculate the square of a number. "
   ]
  },
  {
   "cell_type": "code",
   "execution_count": 5,
   "id": "845c9ec3-d467-4d19-8853-e0ebe7aaf289",
   "metadata": {},
   "outputs": [
    {
     "name": "stdout",
     "output_type": "stream",
     "text": [
      "The square of 5 is 25\n"
     ]
    },
    {
     "data": {
      "text/plain": [
       "defined \u001b[32mobject\u001b[39m \u001b[36mMathUtil\u001b[39m\n",
       "\u001b[36mresult\u001b[39m: \u001b[32mInt\u001b[39m = \u001b[32m25\u001b[39m"
      ]
     },
     "execution_count": 5,
     "metadata": {},
     "output_type": "execute_result"
    }
   ],
   "source": [
    "object MathUtil {\n",
    "  def square(x: Int): Int = x * x\n",
    "}\n",
    "val result = MathUtil.square(5)\n",
    "println(s\"The square of 5 is $result\")"
   ]
  },
  {
   "cell_type": "markdown",
   "id": "542b608f-2585-43d2-9b87-d75111a8f6d4",
   "metadata": {},
   "source": [
    "<a id=\"trait\"></a>\n",
    "## Trait: Reusable Code Fragments\n",
    "\n",
    "### What is a Trait?\n",
    "A trait is a collection of abstract and non-abstract methods. You can use traits to share methods across multiple classes.\n",
    "\n",
    "### Example: Creating a Trait\n",
    "\n",
    "Let's create a trait named `Greetable` that has an abstract method `greet`. We can extend the `Person` class to implement the `Greetable` trait."
   ]
  },
  {
   "cell_type": "code",
   "execution_count": 6,
   "id": "6eee6534-22fe-4c4e-a1d9-6fd9fe80f799",
   "metadata": {},
   "outputs": [
    {
     "data": {
      "text/plain": [
       "defined \u001b[32mtrait\u001b[39m \u001b[36mGreetable\u001b[39m\n",
       "defined \u001b[32mclass\u001b[39m \u001b[36mFriendlyPerson\u001b[39m"
      ]
     },
     "execution_count": 6,
     "metadata": {},
     "output_type": "execute_result"
    }
   ],
   "source": [
    "trait Greetable {\n",
    "  def greet(): String\n",
    "}\n",
    "class FriendlyPerson(name: String, age: Int) extends Person(name, age) with Greetable {\n",
    "  def greet(): String = {\n",
    "    s\"Hi there! My name is $name.\"\n",
    "  }\n",
    "}\n",
    "\n",
    "val bob = new FriendlyPerson(\"Bob\", 40)\n",
    "println(bob.greet())"
   ]
  },
  {
   "cell_type": "markdown",
   "id": "6d6ce9c7-1898-49f7-994c-bbbc4a7e0d7c",
   "metadata": {},
   "source": [
    "<a id=\"abstract-class\"></a>\n",
    "## Abstract Class: A Partial Implementation\n",
    "\n",
    "### What is an Abstract Class?\n",
    "An abstract class is similar to a class, but you can't instantiate it directly. It can have both abstract (unimplemented) and concrete (implemented) methods.\n",
    "\n",
    "### Example: Creating and using an Abstract Class\n",
    "\n",
    "Let's create an abstract class named `Animal` that has one abstract method `makeSound`. Then, we can create a `Dog` class that extends the `Animal` abstract class and implement the `makeSound` method."
   ]
  },
  {
   "cell_type": "code",
   "execution_count": 22,
   "id": "4c297031-bf78-47e0-968d-acd1bc89cbb3",
   "metadata": {},
   "outputs": [
    {
     "name": "stdout",
     "output_type": "stream",
     "text": [
      "Woof!\n"
     ]
    },
    {
     "data": {
      "text/plain": [
       "defined \u001b[32mclass\u001b[39m \u001b[36mAnimal\u001b[39m\n",
       "defined \u001b[32mclass\u001b[39m \u001b[36mDog\u001b[39m\n",
       "\u001b[36mmyDog\u001b[39m: \u001b[32mDog\u001b[39m = ammonite.$sess.cell22$Helper$Dog@7bd38d4a"
      ]
     },
     "execution_count": 22,
     "metadata": {},
     "output_type": "execute_result"
    }
   ],
   "source": [
    "abstract class Animal {\n",
    "  def makeSound(): String\n",
    "}\n",
    "class Dog extends Animal {\n",
    "  def makeSound(): String = \"Woof!\"\n",
    "}\n",
    "\n",
    "val myDog = new Dog()\n",
    "println(myDog.makeSound())"
   ]
  },
  {
   "cell_type": "markdown",
   "id": "a3e84c77-6e68-470f-af26-46d7b7995101",
   "metadata": {},
   "source": [
    "But that's not all! Abstract classes differ from traits in their ability to take parameters. Let's try to accomplish the same thing as above, this time using a parametric `abstract class` to keep things DRY:"
   ]
  },
  {
   "cell_type": "code",
   "execution_count": 25,
   "id": "21fc82bb-0f51-40f7-80f3-1392cb4e959a",
   "metadata": {},
   "outputs": [
    {
     "name": "stdout",
     "output_type": "stream",
     "text": [
      "Meow\n"
     ]
    },
    {
     "data": {
      "text/plain": [
       "defined \u001b[32mclass\u001b[39m \u001b[36mAnimal\u001b[39m\n",
       "defined \u001b[32mclass\u001b[39m \u001b[36mCat\u001b[39m\n",
       "\u001b[36mmyCat\u001b[39m: \u001b[32mCat\u001b[39m = ammonite.$sess.cell25$Helper$Cat@36420f83"
      ]
     },
     "execution_count": 25,
     "metadata": {},
     "output_type": "execute_result"
    }
   ],
   "source": [
    "abstract class Animal(sound: String) {\n",
    "  def makeSound(): String = sound\n",
    "}\n",
    "class Cat extends Animal(\"Meow\")\n",
    "\n",
    "val myCat = new Cat()\n",
    "println(myCat.makeSound())"
   ]
  },
  {
   "cell_type": "markdown",
   "id": "04f220cf-cced-4dd7-b75a-932b2f793969",
   "metadata": {},
   "source": [
    "<a id=\"comparison\"></a>\n",
    "## Comparison: When to Use What?\n",
    "\n",
    "1. **Class**: When you need a blueprint for creating multiple instances. No special, scala-specific mental model necessary!\n",
    "2. **Object**: When you need a single instance to store utilities, constants, or implicits.\n",
    "3. **Trait**: When you want to share code across multiple classes.\n",
    "4. **Abstract Class**: When you want to provide a common base class, are planning on defining a strict class hierarchy, or just want to take advantage of their ability to accept parameters at the point of reification."
   ]
  },
  {
   "cell_type": "code",
   "execution_count": null,
   "id": "f5755a45-6e01-430c-ad73-d0638ec9d042",
   "metadata": {},
   "outputs": [],
   "source": []
  }
 ],
 "metadata": {
  "kernelspec": {
   "display_name": "Scala 2.12",
   "language": "scala",
   "name": "scala212"
  },
  "language_info": {
   "codemirror_mode": "text/x-scala",
   "file_extension": ".sc",
   "mimetype": "text/x-scala",
   "name": "scala",
   "nbconvert_exporter": "script",
   "version": "2.12.18"
  }
 },
 "nbformat": 4,
 "nbformat_minor": 5
}
